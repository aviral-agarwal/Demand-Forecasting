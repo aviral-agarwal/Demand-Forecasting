{
 "cells": [
  {
   "cell_type": "code",
   "execution_count": 1,
   "metadata": {},
   "outputs": [],
   "source": [
    "import pandas as pd, gc"
   ]
  },
  {
   "cell_type": "markdown",
   "metadata": {},
   "source": [
    "# Assigning to data which will be used for training regression model"
   ]
  },
  {
   "cell_type": "code",
   "execution_count": 4,
   "metadata": {},
   "outputs": [],
   "source": [
    "df_train_regress = pd.read_csv('df_train_regress.csv',dtype={'Customer ID':'object'})\n",
    "df_train_regress['Date'] = pd.to_datetime(df_train_regress['Date'])"
   ]
  },
  {
   "cell_type": "code",
   "execution_count": 5,
   "metadata": {},
   "outputs": [],
   "source": [
    "cc_dtype = {'Customer ID':'object',\n",
    "            'Customer_Cluster ':'int8'}"
   ]
  },
  {
   "cell_type": "code",
   "execution_count": 6,
   "metadata": {},
   "outputs": [],
   "source": [
    "df_customer_cluster = pd.read_csv('customer_cluster_train.csv', dtype =cc_dtype)"
   ]
  },
  {
   "cell_type": "code",
   "execution_count": 7,
   "metadata": {},
   "outputs": [],
   "source": [
    "df_customer_cluster = df_customer_cluster[['Customer ID','Customer_Cluster']]"
   ]
  },
  {
   "cell_type": "code",
   "execution_count": 8,
   "metadata": {},
   "outputs": [
    {
     "data": {
      "text/plain": [
       "80"
      ]
     },
     "execution_count": 8,
     "metadata": {},
     "output_type": "execute_result"
    }
   ],
   "source": [
    "gc.collect()"
   ]
  },
  {
   "cell_type": "code",
   "execution_count": 9,
   "metadata": {},
   "outputs": [],
   "source": [
    "df_train_regress = pd.merge(df_train_regress,df_customer_cluster,how='left',on=['Customer ID'])"
   ]
  },
  {
   "cell_type": "code",
   "execution_count": 10,
   "metadata": {},
   "outputs": [],
   "source": [
    "df_train_regress.to_csv('df_train_regress_cc.csv',index=False)"
   ]
  },
  {
   "cell_type": "markdown",
   "metadata": {},
   "source": [
    "# Assigning Customer_Cluster to test data with following logic  \n",
    "1. if customer id in any of the cluster we got from training data, then that Customer_Cluster,  \n",
    "\n",
    "2. if it is a customer which was visited by ABC representative but never ordered, then Customer_Cluster = 0. Quantity estimate for these customers will be zero as they may not be buying because of some external factor. This also helps us manage the huge number of customers.\n",
    "\n",
    "3. if new customer then assigned Customer_Cluster = 1 as it has low visits and makes most business sense  "
   ]
  },
  {
   "cell_type": "code",
   "execution_count": 13,
   "metadata": {},
   "outputs": [],
   "source": [
    "df_test = pd.read_csv('df_test.csv',dtype = {'Customer ID':'object'})"
   ]
  },
  {
   "cell_type": "code",
   "execution_count": 14,
   "metadata": {},
   "outputs": [
    {
     "data": {
      "text/plain": [
       "(842484, 19)"
      ]
     },
     "execution_count": 14,
     "metadata": {},
     "output_type": "execute_result"
    }
   ],
   "source": [
    "df_test.shape"
   ]
  },
  {
   "cell_type": "code",
   "execution_count": 15,
   "metadata": {},
   "outputs": [
    {
     "data": {
      "text/html": [
       "<div>\n",
       "<style scoped>\n",
       "    .dataframe tbody tr th:only-of-type {\n",
       "        vertical-align: middle;\n",
       "    }\n",
       "\n",
       "    .dataframe tbody tr th {\n",
       "        vertical-align: top;\n",
       "    }\n",
       "\n",
       "    .dataframe thead th {\n",
       "        text-align: right;\n",
       "    }\n",
       "</style>\n",
       "<table border=\"1\" class=\"dataframe\">\n",
       "  <thead>\n",
       "    <tr style=\"text-align: right;\">\n",
       "      <th></th>\n",
       "      <th>Customer ID</th>\n",
       "      <th>Quantity</th>\n",
       "      <th>Invoice Value</th>\n",
       "      <th>Date</th>\n",
       "      <th>month</th>\n",
       "      <th>year</th>\n",
       "      <th>dayofmonth_sin</th>\n",
       "      <th>dayofmonth_cos</th>\n",
       "      <th>month_sin</th>\n",
       "      <th>month_cos</th>\n",
       "      <th>week_sin</th>\n",
       "      <th>week_cos</th>\n",
       "      <th>dayofweek_sin</th>\n",
       "      <th>dayofweek_cos</th>\n",
       "      <th>quarter_sin</th>\n",
       "      <th>quarter_cos</th>\n",
       "      <th>month_start_mid_end_sin</th>\n",
       "      <th>month_start_mid_end_cos</th>\n",
       "      <th>price</th>\n",
       "    </tr>\n",
       "  </thead>\n",
       "  <tbody>\n",
       "    <tr>\n",
       "      <th>0</th>\n",
       "      <td>500072277</td>\n",
       "      <td>1.0</td>\n",
       "      <td>45.62</td>\n",
       "      <td>2019-03-23</td>\n",
       "      <td>3</td>\n",
       "      <td>2019</td>\n",
       "      <td>-0.9985</td>\n",
       "      <td>-0.05066</td>\n",
       "      <td>1.0</td>\n",
       "      <td>0.0</td>\n",
       "      <td>0.9927</td>\n",
       "      <td>0.12054</td>\n",
       "      <td>-0.9750</td>\n",
       "      <td>-0.2225</td>\n",
       "      <td>1.0</td>\n",
       "      <td>0.0</td>\n",
       "      <td>-0.000</td>\n",
       "      <td>1.0</td>\n",
       "      <td>45.62500</td>\n",
       "    </tr>\n",
       "    <tr>\n",
       "      <th>1</th>\n",
       "      <td>500105538</td>\n",
       "      <td>10.0</td>\n",
       "      <td>416.50</td>\n",
       "      <td>2019-03-31</td>\n",
       "      <td>3</td>\n",
       "      <td>2019</td>\n",
       "      <td>-0.0000</td>\n",
       "      <td>1.00000</td>\n",
       "      <td>1.0</td>\n",
       "      <td>0.0</td>\n",
       "      <td>1.0000</td>\n",
       "      <td>0.00000</td>\n",
       "      <td>-0.7817</td>\n",
       "      <td>0.6235</td>\n",
       "      <td>1.0</td>\n",
       "      <td>0.0</td>\n",
       "      <td>-0.000</td>\n",
       "      <td>1.0</td>\n",
       "      <td>41.65625</td>\n",
       "    </tr>\n",
       "    <tr>\n",
       "      <th>2</th>\n",
       "      <td>500677199</td>\n",
       "      <td>0.0</td>\n",
       "      <td>0.00</td>\n",
       "      <td>2019-03-17</td>\n",
       "      <td>3</td>\n",
       "      <td>2019</td>\n",
       "      <td>-0.2993</td>\n",
       "      <td>-0.95400</td>\n",
       "      <td>1.0</td>\n",
       "      <td>0.0</td>\n",
       "      <td>0.9707</td>\n",
       "      <td>0.23930</td>\n",
       "      <td>-0.7817</td>\n",
       "      <td>0.6235</td>\n",
       "      <td>1.0</td>\n",
       "      <td>0.0</td>\n",
       "      <td>-0.866</td>\n",
       "      <td>-0.5</td>\n",
       "      <td>44.43750</td>\n",
       "    </tr>\n",
       "    <tr>\n",
       "      <th>3</th>\n",
       "      <td>500713833</td>\n",
       "      <td>0.0</td>\n",
       "      <td>0.00</td>\n",
       "      <td>2019-03-20</td>\n",
       "      <td>3</td>\n",
       "      <td>2019</td>\n",
       "      <td>-0.7910</td>\n",
       "      <td>-0.61230</td>\n",
       "      <td>1.0</td>\n",
       "      <td>0.0</td>\n",
       "      <td>0.9927</td>\n",
       "      <td>0.12054</td>\n",
       "      <td>0.9750</td>\n",
       "      <td>-0.2225</td>\n",
       "      <td>1.0</td>\n",
       "      <td>0.0</td>\n",
       "      <td>-0.866</td>\n",
       "      <td>-0.5</td>\n",
       "      <td>44.43750</td>\n",
       "    </tr>\n",
       "    <tr>\n",
       "      <th>4</th>\n",
       "      <td>500033437</td>\n",
       "      <td>0.0</td>\n",
       "      <td>0.00</td>\n",
       "      <td>2019-03-22</td>\n",
       "      <td>3</td>\n",
       "      <td>2019</td>\n",
       "      <td>-0.9683</td>\n",
       "      <td>-0.25070</td>\n",
       "      <td>1.0</td>\n",
       "      <td>0.0</td>\n",
       "      <td>0.9927</td>\n",
       "      <td>0.12054</td>\n",
       "      <td>-0.4338</td>\n",
       "      <td>-0.9010</td>\n",
       "      <td>1.0</td>\n",
       "      <td>0.0</td>\n",
       "      <td>-0.000</td>\n",
       "      <td>1.0</td>\n",
       "      <td>44.43750</td>\n",
       "    </tr>\n",
       "  </tbody>\n",
       "</table>\n",
       "</div>"
      ],
      "text/plain": [
       "  Customer ID  Quantity  Invoice Value        Date  month  year  \\\n",
       "0   500072277       1.0          45.62  2019-03-23      3  2019   \n",
       "1   500105538      10.0         416.50  2019-03-31      3  2019   \n",
       "2   500677199       0.0           0.00  2019-03-17      3  2019   \n",
       "3   500713833       0.0           0.00  2019-03-20      3  2019   \n",
       "4   500033437       0.0           0.00  2019-03-22      3  2019   \n",
       "\n",
       "   dayofmonth_sin  dayofmonth_cos  month_sin  month_cos  week_sin  week_cos  \\\n",
       "0         -0.9985        -0.05066        1.0        0.0    0.9927   0.12054   \n",
       "1         -0.0000         1.00000        1.0        0.0    1.0000   0.00000   \n",
       "2         -0.2993        -0.95400        1.0        0.0    0.9707   0.23930   \n",
       "3         -0.7910        -0.61230        1.0        0.0    0.9927   0.12054   \n",
       "4         -0.9683        -0.25070        1.0        0.0    0.9927   0.12054   \n",
       "\n",
       "   dayofweek_sin  dayofweek_cos  quarter_sin  quarter_cos  \\\n",
       "0        -0.9750        -0.2225          1.0          0.0   \n",
       "1        -0.7817         0.6235          1.0          0.0   \n",
       "2        -0.7817         0.6235          1.0          0.0   \n",
       "3         0.9750        -0.2225          1.0          0.0   \n",
       "4        -0.4338        -0.9010          1.0          0.0   \n",
       "\n",
       "   month_start_mid_end_sin  month_start_mid_end_cos     price  \n",
       "0                   -0.000                      1.0  45.62500  \n",
       "1                   -0.000                      1.0  41.65625  \n",
       "2                   -0.866                     -0.5  44.43750  \n",
       "3                   -0.866                     -0.5  44.43750  \n",
       "4                   -0.000                      1.0  44.43750  "
      ]
     },
     "execution_count": 15,
     "metadata": {},
     "output_type": "execute_result"
    }
   ],
   "source": [
    "df_test.head()"
   ]
  },
  {
   "cell_type": "markdown",
   "metadata": {},
   "source": [
    "1. if customer id in any of the cluster we got from training data, then that Customer_Cluster,  "
   ]
  },
  {
   "cell_type": "code",
   "execution_count": 16,
   "metadata": {},
   "outputs": [],
   "source": [
    "df_merge = pd.merge(df_test,df_customer_cluster, how='left', on=['Customer ID'])"
   ]
  },
  {
   "cell_type": "code",
   "execution_count": 17,
   "metadata": {},
   "outputs": [],
   "source": [
    "df_test_1 = df_merge[~df_merge['Customer_Cluster'].isnull()]"
   ]
  },
  {
   "cell_type": "code",
   "execution_count": 18,
   "metadata": {},
   "outputs": [],
   "source": [
    "df_nan_1 = df_merge[df_merge['Customer_Cluster'].isnull()]"
   ]
  },
  {
   "cell_type": "code",
   "execution_count": 19,
   "metadata": {},
   "outputs": [
    {
     "data": {
      "text/plain": [
       "(17827, 20)"
      ]
     },
     "execution_count": 19,
     "metadata": {},
     "output_type": "execute_result"
    }
   ],
   "source": [
    "df_nan_1.shape"
   ]
  },
  {
   "cell_type": "markdown",
   "metadata": {},
   "source": [
    "2. if it is a customer which was visited by ABC representative but never ordered, then Customer_Cluster = 0. Quantity estimate for these customers will be zero as they may not be buying because of some external factor. This also helps us manage the huge number of customers."
   ]
  },
  {
   "cell_type": "code",
   "execution_count": 20,
   "metadata": {},
   "outputs": [],
   "source": [
    "df_train_zero_qty_customers = pd.read_csv('df_train_zero_qty_customers.csv', dtype = {'Customer ID':'object','Quantity':'int8'})"
   ]
  },
  {
   "cell_type": "code",
   "execution_count": 21,
   "metadata": {},
   "outputs": [],
   "source": [
    "df_train_zero_qty_customers = df_train_zero_qty_customers['Customer ID']"
   ]
  },
  {
   "cell_type": "code",
   "execution_count": 22,
   "metadata": {},
   "outputs": [
    {
     "data": {
      "text/plain": [
       "array(['0', '500000001', '500000009', ..., '899140257', '899140268',\n",
       "       '899140269'], dtype=object)"
      ]
     },
     "execution_count": 22,
     "metadata": {},
     "output_type": "execute_result"
    }
   ],
   "source": [
    "df_train_zero_qty_customers.unique()"
   ]
  },
  {
   "cell_type": "code",
   "execution_count": 23,
   "metadata": {},
   "outputs": [
    {
     "data": {
      "text/plain": [
       "160"
      ]
     },
     "execution_count": 23,
     "metadata": {},
     "output_type": "execute_result"
    }
   ],
   "source": [
    "gc.collect()"
   ]
  },
  {
   "cell_type": "code",
   "execution_count": 24,
   "metadata": {},
   "outputs": [],
   "source": [
    "df_test_2 = df_nan_1[df_nan_1['Customer_Cluster'].isin(df_train_zero_qty_customers.unique())]"
   ]
  },
  {
   "cell_type": "code",
   "execution_count": 25,
   "metadata": {},
   "outputs": [],
   "source": [
    "df_test_2['Customer_Cluster'] = 0"
   ]
  },
  {
   "cell_type": "markdown",
   "metadata": {},
   "source": [
    "### 2019, ABC Sales representative did not visit the customers, who did not buy from them in 2018"
   ]
  },
  {
   "cell_type": "code",
   "execution_count": 26,
   "metadata": {},
   "outputs": [
    {
     "data": {
      "text/plain": [
       "(0, 20)"
      ]
     },
     "execution_count": 26,
     "metadata": {},
     "output_type": "execute_result"
    }
   ],
   "source": [
    "df_test_2.shape"
   ]
  },
  {
   "cell_type": "markdown",
   "metadata": {},
   "source": [
    "3. if new customer then assigned Customer_Cluster = 1 as it has low visits and makes most business sense  "
   ]
  },
  {
   "cell_type": "code",
   "execution_count": 27,
   "metadata": {},
   "outputs": [],
   "source": [
    "df_test_3 = df_nan_1[~df_nan_1['Customer_Cluster'].isin(df_train_zero_qty_customers.unique())]"
   ]
  },
  {
   "cell_type": "code",
   "execution_count": 28,
   "metadata": {},
   "outputs": [],
   "source": [
    "df_test_3['Customer_Cluster'] = 1"
   ]
  },
  {
   "cell_type": "code",
   "execution_count": null,
   "metadata": {},
   "outputs": [],
   "source": []
  },
  {
   "cell_type": "code",
   "execution_count": 29,
   "metadata": {},
   "outputs": [
    {
     "data": {
      "text/plain": [
       "842484"
      ]
     },
     "execution_count": 29,
     "metadata": {},
     "output_type": "execute_result"
    }
   ],
   "source": [
    "df_test_1.shape[0]+df_test_2.shape[0]+df_test_3.shape[0]"
   ]
  },
  {
   "cell_type": "code",
   "execution_count": 30,
   "metadata": {},
   "outputs": [],
   "source": [
    "df_test_cc = df_test_1.append(df_test_2).append(df_test_3)"
   ]
  },
  {
   "cell_type": "code",
   "execution_count": 31,
   "metadata": {},
   "outputs": [
    {
     "data": {
      "text/plain": [
       "(842484, 20)"
      ]
     },
     "execution_count": 31,
     "metadata": {},
     "output_type": "execute_result"
    }
   ],
   "source": [
    "df_test_cc.shape"
   ]
  },
  {
   "cell_type": "code",
   "execution_count": 32,
   "metadata": {},
   "outputs": [],
   "source": [
    "df_test_cc.to_csv('df_test_cc.csv',index=False)"
   ]
  },
  {
   "cell_type": "code",
   "execution_count": null,
   "metadata": {},
   "outputs": [],
   "source": []
  }
 ],
 "metadata": {
  "kernelspec": {
   "display_name": "DecisionPoint_SeriesForecasting-oxTTuEuo",
   "language": "python",
   "name": "decisionpoint_seriesforecasting-oxttueuo"
  },
  "language_info": {
   "codemirror_mode": {
    "name": "ipython",
    "version": 3
   },
   "file_extension": ".py",
   "mimetype": "text/x-python",
   "name": "python",
   "nbconvert_exporter": "python",
   "pygments_lexer": "ipython3",
   "version": "3.8.3"
  }
 },
 "nbformat": 4,
 "nbformat_minor": 4
}
