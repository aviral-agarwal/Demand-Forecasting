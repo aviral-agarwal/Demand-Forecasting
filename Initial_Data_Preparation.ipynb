{
 "cells": [
  {
   "cell_type": "code",
   "execution_count": 1,
   "metadata": {},
   "outputs": [],
   "source": [
    "import pandas as pd, numpy as np\n",
    "from datetime import date, timedelta\n",
    "import gc\n",
    "import matplotlib.pyplot as plt\n",
    "from sklearn.cluster import KMeans"
   ]
  },
  {
   "cell_type": "markdown",
   "metadata": {},
   "source": [
    "## User Defined Functions"
   ]
  },
  {
   "cell_type": "code",
   "execution_count": 2,
   "metadata": {},
   "outputs": [],
   "source": [
    "def comma_format(num):\n",
    "    '''\n",
    "    convert a number to comma format\n",
    "    return is in string type\n",
    "    '''\n",
    "    return '{:,}'.format(num)"
   ]
  },
  {
   "cell_type": "code",
   "execution_count": 3,
   "metadata": {},
   "outputs": [],
   "source": [
    "def reduce_mem_usage(df, verbose=True):\n",
    "    '''\n",
    "    takes in a dataframe and optimizes the data types of numeric columns according to the range of values in them\n",
    "    '''\n",
    "    numerics = ['int16', 'int32', 'int64', 'float16', 'float32', 'float64']\n",
    "    start_mem = df.memory_usage().sum() / 1024**2 # conversion from bytes to Mb\n",
    "    for col in df.columns:\n",
    "        col_type = df[col].dtypes\n",
    "        if col_type in numerics:\n",
    "            c_min = df[col].min()\n",
    "            c_max = df[col].max()\n",
    "            if str(col_type)[:3] == 'int':\n",
    "                if c_min > np.iinfo(np.int8).min and c_max < np.iinfo(np.int8).max:\n",
    "                    df[col] = df[col].astype(np.int8)\n",
    "                elif c_min > np.iinfo(np.int16).min and c_max < np.iinfo(np.int16).max:\n",
    "                    df[col] = df[col].astype(np.int16)\n",
    "                elif c_min > np.iinfo(np.int32).min and c_max < np.iinfo(np.int32).max:\n",
    "                    df[col] = df[col].astype(np.int32)\n",
    "                elif c_min > np.iinfo(np.int64).min and c_max < np.iinfo(np.int64).max:\n",
    "                    df[col] = df[col].astype(np.int64)\n",
    "            else:\n",
    "                if c_min > np.finfo(np.float16).min and c_max < np.finfo(np.float16).max:\n",
    "                    df[col] = df[col].astype(np.float16)\n",
    "                elif c_min > np.finfo(np.float32).min and c_max < np.finfo(np.float32).max:\n",
    "                    df[col] = df[col].astype(np.float32)\n",
    "                else:\n",
    "                    df[col] = df[col].astype(np.float64)\n",
    "    end_mem = df.memory_usage().sum() / 1024**2\n",
    "    print('collecting garbage gc.collect()')\n",
    "    gc.collect()\n",
    "    if verbose:\n",
    "        print('Memory usage decreased to {:5.2f} Mb ({:.1f}% reduction)'.format(\n",
    "            end_mem, 100 * (start_mem - end_mem) / start_mem))\n",
    "    return df"
   ]
  },
  {
   "cell_type": "markdown",
   "metadata": {},
   "source": [
    "## Importing Data"
   ]
  },
  {
   "cell_type": "code",
   "execution_count": 4,
   "metadata": {},
   "outputs": [],
   "source": [
    "df = pd.read_csv('Data_Assignment.csv')"
   ]
  },
  {
   "cell_type": "markdown",
   "metadata": {},
   "source": [
    "#### checking missing values"
   ]
  },
  {
   "cell_type": "code",
   "execution_count": 5,
   "metadata": {},
   "outputs": [
    {
     "data": {
      "text/plain": [
       "Customer ID      0\n",
       "Quantity         0\n",
       "Invoice Value    0\n",
       "Date             0\n",
       "dtype: int64"
      ]
     },
     "execution_count": 5,
     "metadata": {},
     "output_type": "execute_result"
    }
   ],
   "source": [
    "df.isna().sum()"
   ]
  },
  {
   "cell_type": "markdown",
   "metadata": {},
   "source": [
    "**Inference**: no missing data"
   ]
  },
  {
   "cell_type": "markdown",
   "metadata": {},
   "source": [
    "## Data Types"
   ]
  },
  {
   "cell_type": "code",
   "execution_count": 6,
   "metadata": {},
   "outputs": [
    {
     "name": "stdout",
     "output_type": "stream",
     "text": [
      "<class 'pandas.core.frame.DataFrame'>\n",
      "RangeIndex: 4240880 entries, 0 to 4240879\n",
      "Data columns (total 4 columns):\n",
      " #   Column         Dtype  \n",
      "---  ------         -----  \n",
      " 0   Customer ID    int64  \n",
      " 1   Quantity       float64\n",
      " 2   Invoice Value  float64\n",
      " 3   Date           object \n",
      "dtypes: float64(2), int64(1), object(1)\n",
      "memory usage: 129.4+ MB\n"
     ]
    }
   ],
   "source": [
    "df.info()"
   ]
  },
  {
   "cell_type": "code",
   "execution_count": 7,
   "metadata": {},
   "outputs": [],
   "source": [
    "# converting to proper data type\n",
    "# we did not make Customer ID 'category' as it was causing error in groupby\n",
    "df['Customer ID'] = df['Customer ID'].astype('object')\n",
    "df['Date'] = pd.to_datetime(df['Date'])"
   ]
  },
  {
   "cell_type": "markdown",
   "metadata": {},
   "source": [
    "#### checking if Quantity and Invoice Value have any decimal values, so that we can convert it to int type for better memory handling"
   ]
  },
  {
   "cell_type": "code",
   "execution_count": 8,
   "metadata": {},
   "outputs": [
    {
     "data": {
      "text/plain": [
       "False"
      ]
     },
     "execution_count": 8,
     "metadata": {},
     "output_type": "execute_result"
    }
   ],
   "source": [
    "# checking if Quantity and Invoice Value have any decimal values\n",
    "np.array_equal(df.Quantity, df.Quantity.astype(int))"
   ]
  },
  {
   "cell_type": "code",
   "execution_count": 9,
   "metadata": {},
   "outputs": [],
   "source": [
    "# looking at data where Quantity is in decimal numbers\n",
    "df_decimal_quantity = df[~df.Quantity.apply(float.is_integer)]"
   ]
  },
  {
   "cell_type": "code",
   "execution_count": 10,
   "metadata": {},
   "outputs": [
    {
     "data": {
      "text/html": [
       "<div>\n",
       "<style scoped>\n",
       "    .dataframe tbody tr th:only-of-type {\n",
       "        vertical-align: middle;\n",
       "    }\n",
       "\n",
       "    .dataframe tbody tr th {\n",
       "        vertical-align: top;\n",
       "    }\n",
       "\n",
       "    .dataframe thead th {\n",
       "        text-align: right;\n",
       "    }\n",
       "</style>\n",
       "<table border=\"1\" class=\"dataframe\">\n",
       "  <thead>\n",
       "    <tr style=\"text-align: right;\">\n",
       "      <th></th>\n",
       "      <th>Customer ID</th>\n",
       "      <th>Quantity</th>\n",
       "      <th>Invoice Value</th>\n",
       "      <th>Date</th>\n",
       "    </tr>\n",
       "  </thead>\n",
       "  <tbody>\n",
       "    <tr>\n",
       "      <th>5361</th>\n",
       "      <td>500009165</td>\n",
       "      <td>9.833</td>\n",
       "      <td>361.675</td>\n",
       "      <td>2019-03-12</td>\n",
       "    </tr>\n",
       "    <tr>\n",
       "      <th>9141</th>\n",
       "      <td>500041792</td>\n",
       "      <td>4.667</td>\n",
       "      <td>129.080</td>\n",
       "      <td>2018-06-09</td>\n",
       "    </tr>\n",
       "    <tr>\n",
       "      <th>19210</th>\n",
       "      <td>500070225</td>\n",
       "      <td>0.833</td>\n",
       "      <td>36.365</td>\n",
       "      <td>2018-06-28</td>\n",
       "    </tr>\n",
       "    <tr>\n",
       "      <th>22214</th>\n",
       "      <td>500064900</td>\n",
       "      <td>2.833</td>\n",
       "      <td>102.600</td>\n",
       "      <td>2019-02-19</td>\n",
       "    </tr>\n",
       "    <tr>\n",
       "      <th>48717</th>\n",
       "      <td>500055771</td>\n",
       "      <td>0.833</td>\n",
       "      <td>33.060</td>\n",
       "      <td>2018-10-18</td>\n",
       "    </tr>\n",
       "  </tbody>\n",
       "</table>\n",
       "</div>"
      ],
      "text/plain": [
       "      Customer ID  Quantity  Invoice Value       Date\n",
       "5361    500009165     9.833        361.675 2019-03-12\n",
       "9141    500041792     4.667        129.080 2018-06-09\n",
       "19210   500070225     0.833         36.365 2018-06-28\n",
       "22214   500064900     2.833        102.600 2019-02-19\n",
       "48717   500055771     0.833         33.060 2018-10-18"
      ]
     },
     "execution_count": 10,
     "metadata": {},
     "output_type": "execute_result"
    }
   ],
   "source": [
    "df_decimal_quantity.head()"
   ]
  },
  {
   "cell_type": "code",
   "execution_count": 11,
   "metadata": {},
   "outputs": [
    {
     "name": "stderr",
     "output_type": "stream",
     "text": [
      "<ipython-input-11-47d862aec71b>:2: SettingWithCopyWarning: \n",
      "A value is trying to be set on a copy of a slice from a DataFrame.\n",
      "Try using .loc[row_indexer,col_indexer] = value instead\n",
      "\n",
      "See the caveats in the documentation: https://pandas.pydata.org/pandas-docs/stable/user_guide/indexing.html#returning-a-view-versus-a-copy\n",
      "  df_decimal_quantity['Price'] = df_decimal_quantity['Invoice Value']/df_decimal_quantity['Quantity']\n"
     ]
    }
   ],
   "source": [
    "# checking in the cost of per pack of noodle in cases where quantity is in decimal numbers\n",
    "df_decimal_quantity['Price'] = df_decimal_quantity['Invoice Value']/df_decimal_quantity['Quantity']"
   ]
  },
  {
   "cell_type": "code",
   "execution_count": 12,
   "metadata": {},
   "outputs": [
    {
     "data": {
      "text/html": [
       "<div>\n",
       "<style scoped>\n",
       "    .dataframe tbody tr th:only-of-type {\n",
       "        vertical-align: middle;\n",
       "    }\n",
       "\n",
       "    .dataframe tbody tr th {\n",
       "        vertical-align: top;\n",
       "    }\n",
       "\n",
       "    .dataframe thead th {\n",
       "        text-align: right;\n",
       "    }\n",
       "</style>\n",
       "<table border=\"1\" class=\"dataframe\">\n",
       "  <thead>\n",
       "    <tr style=\"text-align: right;\">\n",
       "      <th></th>\n",
       "      <th>Customer ID</th>\n",
       "      <th>Quantity</th>\n",
       "      <th>Invoice Value</th>\n",
       "      <th>Date</th>\n",
       "      <th>Price</th>\n",
       "    </tr>\n",
       "  </thead>\n",
       "  <tbody>\n",
       "    <tr>\n",
       "      <th>5361</th>\n",
       "      <td>500009165</td>\n",
       "      <td>9.833</td>\n",
       "      <td>361.675</td>\n",
       "      <td>2019-03-12</td>\n",
       "      <td>36.781755</td>\n",
       "    </tr>\n",
       "    <tr>\n",
       "      <th>9141</th>\n",
       "      <td>500041792</td>\n",
       "      <td>4.667</td>\n",
       "      <td>129.080</td>\n",
       "      <td>2018-06-09</td>\n",
       "      <td>27.658024</td>\n",
       "    </tr>\n",
       "    <tr>\n",
       "      <th>19210</th>\n",
       "      <td>500070225</td>\n",
       "      <td>0.833</td>\n",
       "      <td>36.365</td>\n",
       "      <td>2018-06-28</td>\n",
       "      <td>43.655462</td>\n",
       "    </tr>\n",
       "    <tr>\n",
       "      <th>22214</th>\n",
       "      <td>500064900</td>\n",
       "      <td>2.833</td>\n",
       "      <td>102.600</td>\n",
       "      <td>2019-02-19</td>\n",
       "      <td>36.216025</td>\n",
       "    </tr>\n",
       "    <tr>\n",
       "      <th>48717</th>\n",
       "      <td>500055771</td>\n",
       "      <td>0.833</td>\n",
       "      <td>33.060</td>\n",
       "      <td>2018-10-18</td>\n",
       "      <td>39.687875</td>\n",
       "    </tr>\n",
       "  </tbody>\n",
       "</table>\n",
       "</div>"
      ],
      "text/plain": [
       "      Customer ID  Quantity  Invoice Value       Date      Price\n",
       "5361    500009165     9.833        361.675 2019-03-12  36.781755\n",
       "9141    500041792     4.667        129.080 2018-06-09  27.658024\n",
       "19210   500070225     0.833         36.365 2018-06-28  43.655462\n",
       "22214   500064900     2.833        102.600 2019-02-19  36.216025\n",
       "48717   500055771     0.833         33.060 2018-10-18  39.687875"
      ]
     },
     "execution_count": 12,
     "metadata": {},
     "output_type": "execute_result"
    }
   ],
   "source": [
    "df_decimal_quantity.head()"
   ]
  },
  {
   "cell_type": "code",
   "execution_count": 13,
   "metadata": {},
   "outputs": [],
   "source": [
    "del df_decimal_quantity"
   ]
  },
  {
   "cell_type": "markdown",
   "metadata": {},
   "source": [
    "**Inference**:  \n",
    "There are Quantities which are in decimal numbers. We should confirm what it means for better understanding of data generation process.  \n",
    "There seems to be no apparent insight into Price of a Noodle pack in these cases.  \n",
    "\n",
    "Hence we would have to leave it in float."
   ]
  },
  {
   "cell_type": "code",
   "execution_count": 14,
   "metadata": {},
   "outputs": [
    {
     "name": "stdout",
     "output_type": "stream",
     "text": [
      "<class 'pandas.core.frame.DataFrame'>\n",
      "RangeIndex: 4240880 entries, 0 to 4240879\n",
      "Data columns (total 4 columns):\n",
      " #   Column         Dtype         \n",
      "---  ------         -----         \n",
      " 0   Customer ID    object        \n",
      " 1   Quantity       float64       \n",
      " 2   Invoice Value  float64       \n",
      " 3   Date           datetime64[ns]\n",
      "dtypes: datetime64[ns](1), float64(2), object(1)\n",
      "memory usage: 129.4+ MB\n"
     ]
    }
   ],
   "source": [
    "df.info()"
   ]
  },
  {
   "cell_type": "code",
   "execution_count": 15,
   "metadata": {},
   "outputs": [
    {
     "name": "stdout",
     "output_type": "stream",
     "text": [
      "collecting garbage gc.collect()\n",
      "Memory usage decreased to 80.89 Mb (37.5% reduction)\n"
     ]
    }
   ],
   "source": [
    "df = reduce_mem_usage(df)"
   ]
  },
  {
   "cell_type": "code",
   "execution_count": 16,
   "metadata": {},
   "outputs": [
    {
     "data": {
      "text/plain": [
       "20"
      ]
     },
     "execution_count": 16,
     "metadata": {},
     "output_type": "execute_result"
    }
   ],
   "source": [
    "gc.collect()"
   ]
  },
  {
   "cell_type": "markdown",
   "metadata": {},
   "source": [
    "## Feature Engineering  \n",
    "creating all features we think may have had an impact on quantities of noodles a Customer purchases."
   ]
  },
  {
   "cell_type": "markdown",
   "metadata": {},
   "source": [
    "#### Date Features"
   ]
  },
  {
   "cell_type": "code",
   "execution_count": 17,
   "metadata": {},
   "outputs": [],
   "source": [
    "# dates within month\n",
    "df['dayofmonth'] = df['Date'].dt.day.astype('int16')"
   ]
  },
  {
   "cell_type": "code",
   "execution_count": 18,
   "metadata": {},
   "outputs": [],
   "source": [
    "# The month as January=1, December=12\n",
    "df['month'] = df['Date'].dt.month.astype('int16')"
   ]
  },
  {
   "cell_type": "code",
   "execution_count": 19,
   "metadata": {},
   "outputs": [],
   "source": [
    "# week number of ordinal year\n",
    "df['week'] = df['Date'].dt.week.astype('int16')"
   ]
  },
  {
   "cell_type": "code",
   "execution_count": 20,
   "metadata": {},
   "outputs": [],
   "source": [
    "# The day of the week with Monday=0, Sunday=6.\n",
    "df['dayofweek'] = df['Date'].dt.dayofweek"
   ]
  },
  {
   "cell_type": "code",
   "execution_count": 21,
   "metadata": {},
   "outputs": [],
   "source": [
    "# year\n",
    "df['year'] = df['Date'].dt.year.astype('int16')"
   ]
  },
  {
   "cell_type": "code",
   "execution_count": 22,
   "metadata": {},
   "outputs": [],
   "source": [
    "# quarter\n",
    "df['quarter'] = df['Date'].dt.quarter.astype('int16')"
   ]
  },
  {
   "cell_type": "code",
   "execution_count": 23,
   "metadata": {},
   "outputs": [],
   "source": [
    "# first 7 days of a month are considered as start of month\n",
    "# last 7 days of a month are considered as end of month\n",
    "# rest are considered as mid of week\n",
    "df['is_month_start'] = np.where(df['dayofmonth'] <= 7, 1, 0).astype(\"int16\")\n",
    "df['is_month_mid'] = np.where((df['dayofmonth'] >= 8) & (df['dayofmonth'] <= 21), 1, 0).astype(\"int16\")\n",
    "df['is_month_end'] = np.where(df['dayofmonth'] >= 22, 1, 0).astype(\"int16\")"
   ]
  },
  {
   "cell_type": "code",
   "execution_count": 24,
   "metadata": {},
   "outputs": [],
   "source": [
    "df['month_start_mid_end'] = 9"
   ]
  },
  {
   "cell_type": "code",
   "execution_count": 25,
   "metadata": {},
   "outputs": [],
   "source": [
    "df.loc[df['is_month_start'] == 1, 'month_start_mid_end'] = 1\n",
    "df.loc[df['is_month_mid'] == 1, 'month_start_mid_end'] = 2\n",
    "df.loc[df['is_month_end'] == 1, 'month_start_mid_end'] = 3"
   ]
  },
  {
   "cell_type": "code",
   "execution_count": 26,
   "metadata": {},
   "outputs": [],
   "source": [
    "df.drop(['is_month_start','is_month_mid','is_month_end'], axis=1, inplace=True)"
   ]
  },
  {
   "cell_type": "code",
   "execution_count": 27,
   "metadata": {},
   "outputs": [
    {
     "data": {
      "text/html": [
       "<div>\n",
       "<style scoped>\n",
       "    .dataframe tbody tr th:only-of-type {\n",
       "        vertical-align: middle;\n",
       "    }\n",
       "\n",
       "    .dataframe tbody tr th {\n",
       "        vertical-align: top;\n",
       "    }\n",
       "\n",
       "    .dataframe thead th {\n",
       "        text-align: right;\n",
       "    }\n",
       "</style>\n",
       "<table border=\"1\" class=\"dataframe\">\n",
       "  <thead>\n",
       "    <tr style=\"text-align: right;\">\n",
       "      <th></th>\n",
       "      <th>Customer ID</th>\n",
       "      <th>Quantity</th>\n",
       "      <th>Invoice Value</th>\n",
       "      <th>Date</th>\n",
       "      <th>dayofmonth</th>\n",
       "      <th>month</th>\n",
       "      <th>week</th>\n",
       "      <th>dayofweek</th>\n",
       "      <th>year</th>\n",
       "      <th>quarter</th>\n",
       "      <th>month_start_mid_end</th>\n",
       "    </tr>\n",
       "  </thead>\n",
       "  <tbody>\n",
       "    <tr>\n",
       "      <th>0</th>\n",
       "      <td>500743788</td>\n",
       "      <td>0.0</td>\n",
       "      <td>0.000</td>\n",
       "      <td>2018-12-04</td>\n",
       "      <td>4</td>\n",
       "      <td>12</td>\n",
       "      <td>49</td>\n",
       "      <td>1</td>\n",
       "      <td>2018</td>\n",
       "      <td>4</td>\n",
       "      <td>1</td>\n",
       "    </tr>\n",
       "    <tr>\n",
       "      <th>1</th>\n",
       "      <td>500747617</td>\n",
       "      <td>0.0</td>\n",
       "      <td>0.000</td>\n",
       "      <td>2018-12-27</td>\n",
       "      <td>27</td>\n",
       "      <td>12</td>\n",
       "      <td>52</td>\n",
       "      <td>3</td>\n",
       "      <td>2018</td>\n",
       "      <td>4</td>\n",
       "      <td>3</td>\n",
       "    </tr>\n",
       "    <tr>\n",
       "      <th>2</th>\n",
       "      <td>500748185</td>\n",
       "      <td>1.0</td>\n",
       "      <td>43.625</td>\n",
       "      <td>2018-12-04</td>\n",
       "      <td>4</td>\n",
       "      <td>12</td>\n",
       "      <td>49</td>\n",
       "      <td>1</td>\n",
       "      <td>2018</td>\n",
       "      <td>4</td>\n",
       "      <td>1</td>\n",
       "    </tr>\n",
       "    <tr>\n",
       "      <th>3</th>\n",
       "      <td>500701019</td>\n",
       "      <td>1.0</td>\n",
       "      <td>43.625</td>\n",
       "      <td>2018-12-09</td>\n",
       "      <td>9</td>\n",
       "      <td>12</td>\n",
       "      <td>49</td>\n",
       "      <td>6</td>\n",
       "      <td>2018</td>\n",
       "      <td>4</td>\n",
       "      <td>2</td>\n",
       "    </tr>\n",
       "    <tr>\n",
       "      <th>4</th>\n",
       "      <td>500052656</td>\n",
       "      <td>0.0</td>\n",
       "      <td>0.000</td>\n",
       "      <td>2018-12-13</td>\n",
       "      <td>13</td>\n",
       "      <td>12</td>\n",
       "      <td>50</td>\n",
       "      <td>3</td>\n",
       "      <td>2018</td>\n",
       "      <td>4</td>\n",
       "      <td>2</td>\n",
       "    </tr>\n",
       "  </tbody>\n",
       "</table>\n",
       "</div>"
      ],
      "text/plain": [
       "  Customer ID  Quantity  Invoice Value       Date  dayofmonth  month  week  \\\n",
       "0   500743788       0.0          0.000 2018-12-04           4     12    49   \n",
       "1   500747617       0.0          0.000 2018-12-27          27     12    52   \n",
       "2   500748185       1.0         43.625 2018-12-04           4     12    49   \n",
       "3   500701019       1.0         43.625 2018-12-09           9     12    49   \n",
       "4   500052656       0.0          0.000 2018-12-13          13     12    50   \n",
       "\n",
       "   dayofweek  year  quarter  month_start_mid_end  \n",
       "0          1  2018        4                    1  \n",
       "1          3  2018        4                    3  \n",
       "2          1  2018        4                    1  \n",
       "3          6  2018        4                    2  \n",
       "4          3  2018        4                    2  "
      ]
     },
     "execution_count": 27,
     "metadata": {},
     "output_type": "execute_result"
    }
   ],
   "source": [
    "df.head()"
   ]
  },
  {
   "cell_type": "code",
   "execution_count": 28,
   "metadata": {},
   "outputs": [
    {
     "name": "stdout",
     "output_type": "stream",
     "text": [
      "collecting garbage gc.collect()\n",
      "Memory usage decreased to 113.24 Mb (39.1% reduction)\n"
     ]
    },
    {
     "data": {
      "text/plain": [
       "0"
      ]
     },
     "execution_count": 28,
     "metadata": {},
     "output_type": "execute_result"
    }
   ],
   "source": [
    "# optimizing memory of dataframe\n",
    "df = reduce_mem_usage(df)\n",
    "gc.collect()"
   ]
  },
  {
   "cell_type": "markdown",
   "metadata": {},
   "source": [
    "### Creating sin cos components for cyclic features  \n",
    "this is a way to encode cyclic features like month, day, quarter to sin and cos components and hence make these numerial and also maintain their cyclic property."
   ]
  },
  {
   "cell_type": "code",
   "execution_count": 29,
   "metadata": {},
   "outputs": [
    {
     "name": "stdout",
     "output_type": "stream",
     "text": [
      "collecting garbage gc.collect()\n",
      "Memory usage decreased to 125.38 Mb (27.9% reduction)\n"
     ]
    }
   ],
   "source": [
    "df['dayofmonth_sin'] = np.sin(df['dayofmonth']*((2*np.pi)/31))\n",
    "df['dayofmonth_cos'] = np.cos(df['dayofmonth']*((2*np.pi)/31))\n",
    "del df['dayofmonth']\n",
    "gc.collect()\n",
    "df = reduce_mem_usage(df)"
   ]
  },
  {
   "cell_type": "code",
   "execution_count": 30,
   "metadata": {},
   "outputs": [
    {
     "name": "stdout",
     "output_type": "stream",
     "text": [
      "collecting garbage gc.collect()\n",
      "Memory usage decreased to 141.55 Mb (25.5% reduction)\n"
     ]
    }
   ],
   "source": [
    "df['month_sin'] = np.sin(df['month']*((2*np.pi)/12))\n",
    "df['month_cos'] = np.cos(df['month']*((2*np.pi)/12))\n",
    "#del df['month']\n",
    "gc.collect()\n",
    "df = reduce_mem_usage(df)"
   ]
  },
  {
   "cell_type": "code",
   "execution_count": 31,
   "metadata": {},
   "outputs": [
    {
     "name": "stdout",
     "output_type": "stream",
     "text": [
      "collecting garbage gc.collect()\n",
      "Memory usage decreased to 153.69 Mb (24.0% reduction)\n"
     ]
    }
   ],
   "source": [
    "df['week_sin'] = np.sin(df['week']*((2*np.pi)/52))\n",
    "df['week_cos'] = np.cos(df['week']*((2*np.pi)/52))\n",
    "#df.drop(['week'], axis=1, inplace=True)\n",
    "del df['week']\n",
    "gc.collect()\n",
    "df = reduce_mem_usage(df)"
   ]
  },
  {
   "cell_type": "code",
   "execution_count": 32,
   "metadata": {},
   "outputs": [
    {
     "name": "stdout",
     "output_type": "stream",
     "text": [
      "collecting garbage gc.collect()\n",
      "Memory usage decreased to 165.82 Mb (22.6% reduction)\n"
     ]
    }
   ],
   "source": [
    "df['dayofweek_sin'] = np.sin(df['dayofweek']*((2*np.pi)/7))\n",
    "df['dayofweek_cos'] = np.cos(df['dayofweek']*((2*np.pi)/7))\n",
    "del df['dayofweek']\n",
    "gc.collect()\n",
    "df = reduce_mem_usage(df)"
   ]
  },
  {
   "cell_type": "code",
   "execution_count": 33,
   "metadata": {},
   "outputs": [
    {
     "name": "stdout",
     "output_type": "stream",
     "text": [
      "collecting garbage gc.collect()\n",
      "Memory usage decreased to 177.95 Mb (21.4% reduction)\n"
     ]
    }
   ],
   "source": [
    "df['quarter_sin'] = np.sin(df['quarter']*((2*np.pi)/4))\n",
    "df['quarter_cos'] = np.cos(df['quarter']*((2*np.pi)/4))\n",
    "del df['quarter']\n",
    "gc.collect()\n",
    "df = reduce_mem_usage(df)"
   ]
  },
  {
   "cell_type": "code",
   "execution_count": 34,
   "metadata": {},
   "outputs": [
    {
     "name": "stdout",
     "output_type": "stream",
     "text": [
      "collecting garbage gc.collect()\n",
      "Memory usage decreased to 190.09 Mb (20.3% reduction)\n"
     ]
    }
   ],
   "source": [
    "df['month_start_mid_end_sin'] = np.sin(df['month_start_mid_end']*((2*np.pi)/3))\n",
    "df['month_start_mid_end_cos'] = np.cos(df['month_start_mid_end']*((2*np.pi)/3))\n",
    "del df['month_start_mid_end']\n",
    "gc.collect()\n",
    "df = reduce_mem_usage(df)"
   ]
  },
  {
   "cell_type": "code",
   "execution_count": 35,
   "metadata": {},
   "outputs": [
    {
     "name": "stdout",
     "output_type": "stream",
     "text": [
      "collecting garbage gc.collect()\n",
      "Memory usage decreased to 190.09 Mb (0.0% reduction)\n"
     ]
    },
    {
     "data": {
      "text/plain": [
       "0"
      ]
     },
     "execution_count": 35,
     "metadata": {},
     "output_type": "execute_result"
    }
   ],
   "source": [
    "# optimizing memory of dataframe\n",
    "df = reduce_mem_usage(df)\n",
    "gc.collect()"
   ]
  },
  {
   "cell_type": "code",
   "execution_count": 36,
   "metadata": {},
   "outputs": [
    {
     "data": {
      "text/html": [
       "<div>\n",
       "<style scoped>\n",
       "    .dataframe tbody tr th:only-of-type {\n",
       "        vertical-align: middle;\n",
       "    }\n",
       "\n",
       "    .dataframe tbody tr th {\n",
       "        vertical-align: top;\n",
       "    }\n",
       "\n",
       "    .dataframe thead th {\n",
       "        text-align: right;\n",
       "    }\n",
       "</style>\n",
       "<table border=\"1\" class=\"dataframe\">\n",
       "  <thead>\n",
       "    <tr style=\"text-align: right;\">\n",
       "      <th></th>\n",
       "      <th>Customer ID</th>\n",
       "      <th>Quantity</th>\n",
       "      <th>Invoice Value</th>\n",
       "      <th>Date</th>\n",
       "      <th>month</th>\n",
       "      <th>year</th>\n",
       "      <th>dayofmonth_sin</th>\n",
       "      <th>dayofmonth_cos</th>\n",
       "      <th>month_sin</th>\n",
       "      <th>month_cos</th>\n",
       "      <th>week_sin</th>\n",
       "      <th>week_cos</th>\n",
       "      <th>dayofweek_sin</th>\n",
       "      <th>dayofweek_cos</th>\n",
       "      <th>quarter_sin</th>\n",
       "      <th>quarter_cos</th>\n",
       "      <th>month_start_mid_end_sin</th>\n",
       "      <th>month_start_mid_end_cos</th>\n",
       "    </tr>\n",
       "  </thead>\n",
       "  <tbody>\n",
       "    <tr>\n",
       "      <th>0</th>\n",
       "      <td>500743788</td>\n",
       "      <td>0.0</td>\n",
       "      <td>0.000</td>\n",
       "      <td>2018-12-04</td>\n",
       "      <td>12</td>\n",
       "      <td>2018</td>\n",
       "      <td>0.724609</td>\n",
       "      <td>0.688965</td>\n",
       "      <td>-0.0</td>\n",
       "      <td>1.0</td>\n",
       "      <td>-0.354492</td>\n",
       "      <td>0.935059</td>\n",
       "      <td>0.781738</td>\n",
       "      <td>0.623535</td>\n",
       "      <td>-0.0</td>\n",
       "      <td>1.0</td>\n",
       "      <td>0.866211</td>\n",
       "      <td>-0.5</td>\n",
       "    </tr>\n",
       "    <tr>\n",
       "      <th>1</th>\n",
       "      <td>500747617</td>\n",
       "      <td>0.0</td>\n",
       "      <td>0.000</td>\n",
       "      <td>2018-12-27</td>\n",
       "      <td>12</td>\n",
       "      <td>2018</td>\n",
       "      <td>-0.724609</td>\n",
       "      <td>0.688965</td>\n",
       "      <td>-0.0</td>\n",
       "      <td>1.0</td>\n",
       "      <td>-0.000000</td>\n",
       "      <td>1.000000</td>\n",
       "      <td>0.433838</td>\n",
       "      <td>-0.900879</td>\n",
       "      <td>-0.0</td>\n",
       "      <td>1.0</td>\n",
       "      <td>-0.000000</td>\n",
       "      <td>1.0</td>\n",
       "    </tr>\n",
       "    <tr>\n",
       "      <th>2</th>\n",
       "      <td>500748185</td>\n",
       "      <td>1.0</td>\n",
       "      <td>43.625</td>\n",
       "      <td>2018-12-04</td>\n",
       "      <td>12</td>\n",
       "      <td>2018</td>\n",
       "      <td>0.724609</td>\n",
       "      <td>0.688965</td>\n",
       "      <td>-0.0</td>\n",
       "      <td>1.0</td>\n",
       "      <td>-0.354492</td>\n",
       "      <td>0.935059</td>\n",
       "      <td>0.781738</td>\n",
       "      <td>0.623535</td>\n",
       "      <td>-0.0</td>\n",
       "      <td>1.0</td>\n",
       "      <td>0.866211</td>\n",
       "      <td>-0.5</td>\n",
       "    </tr>\n",
       "    <tr>\n",
       "      <th>3</th>\n",
       "      <td>500701019</td>\n",
       "      <td>1.0</td>\n",
       "      <td>43.625</td>\n",
       "      <td>2018-12-09</td>\n",
       "      <td>12</td>\n",
       "      <td>2018</td>\n",
       "      <td>0.968262</td>\n",
       "      <td>-0.250732</td>\n",
       "      <td>-0.0</td>\n",
       "      <td>1.0</td>\n",
       "      <td>-0.354492</td>\n",
       "      <td>0.935059</td>\n",
       "      <td>-0.781738</td>\n",
       "      <td>0.623535</td>\n",
       "      <td>-0.0</td>\n",
       "      <td>1.0</td>\n",
       "      <td>-0.866211</td>\n",
       "      <td>-0.5</td>\n",
       "    </tr>\n",
       "    <tr>\n",
       "      <th>4</th>\n",
       "      <td>500052656</td>\n",
       "      <td>0.0</td>\n",
       "      <td>0.000</td>\n",
       "      <td>2018-12-13</td>\n",
       "      <td>12</td>\n",
       "      <td>2018</td>\n",
       "      <td>0.485352</td>\n",
       "      <td>-0.874512</td>\n",
       "      <td>-0.0</td>\n",
       "      <td>1.0</td>\n",
       "      <td>-0.239258</td>\n",
       "      <td>0.970703</td>\n",
       "      <td>0.433838</td>\n",
       "      <td>-0.900879</td>\n",
       "      <td>-0.0</td>\n",
       "      <td>1.0</td>\n",
       "      <td>-0.866211</td>\n",
       "      <td>-0.5</td>\n",
       "    </tr>\n",
       "  </tbody>\n",
       "</table>\n",
       "</div>"
      ],
      "text/plain": [
       "  Customer ID  Quantity  Invoice Value       Date  month  year  \\\n",
       "0   500743788       0.0          0.000 2018-12-04     12  2018   \n",
       "1   500747617       0.0          0.000 2018-12-27     12  2018   \n",
       "2   500748185       1.0         43.625 2018-12-04     12  2018   \n",
       "3   500701019       1.0         43.625 2018-12-09     12  2018   \n",
       "4   500052656       0.0          0.000 2018-12-13     12  2018   \n",
       "\n",
       "   dayofmonth_sin  dayofmonth_cos  month_sin  month_cos  week_sin  week_cos  \\\n",
       "0        0.724609        0.688965       -0.0        1.0 -0.354492  0.935059   \n",
       "1       -0.724609        0.688965       -0.0        1.0 -0.000000  1.000000   \n",
       "2        0.724609        0.688965       -0.0        1.0 -0.354492  0.935059   \n",
       "3        0.968262       -0.250732       -0.0        1.0 -0.354492  0.935059   \n",
       "4        0.485352       -0.874512       -0.0        1.0 -0.239258  0.970703   \n",
       "\n",
       "   dayofweek_sin  dayofweek_cos  quarter_sin  quarter_cos  \\\n",
       "0       0.781738       0.623535         -0.0          1.0   \n",
       "1       0.433838      -0.900879         -0.0          1.0   \n",
       "2       0.781738       0.623535         -0.0          1.0   \n",
       "3      -0.781738       0.623535         -0.0          1.0   \n",
       "4       0.433838      -0.900879         -0.0          1.0   \n",
       "\n",
       "   month_start_mid_end_sin  month_start_mid_end_cos  \n",
       "0                 0.866211                     -0.5  \n",
       "1                -0.000000                      1.0  \n",
       "2                 0.866211                     -0.5  \n",
       "3                -0.866211                     -0.5  \n",
       "4                -0.866211                     -0.5  "
      ]
     },
     "execution_count": 36,
     "metadata": {},
     "output_type": "execute_result"
    }
   ],
   "source": [
    "df.head()"
   ]
  },
  {
   "cell_type": "markdown",
   "metadata": {},
   "source": [
    "#### Price of a noodle pack   \n",
    "provide justification for using price as an independent variable as price is decided by ABC ltd and is not a function of a transaction. This is a fair business assumption."
   ]
  },
  {
   "cell_type": "code",
   "execution_count": 37,
   "metadata": {},
   "outputs": [],
   "source": [
    "df['price'] = df['Invoice Value']/df['Quantity']"
   ]
  },
  {
   "cell_type": "code",
   "execution_count": 38,
   "metadata": {},
   "outputs": [
    {
     "data": {
      "text/plain": [
       "60"
      ]
     },
     "execution_count": 38,
     "metadata": {},
     "output_type": "execute_result"
    }
   ],
   "source": [
    "gc.collect()"
   ]
  },
  {
   "cell_type": "markdown",
   "metadata": {},
   "source": [
    "### Imputing price where quantity is 0\n",
    "as dividing by 0 would make NaN  \n",
    "using business logic price can be derived from other orders, where there was a transaction, \n",
    "in the same time period as, the transaction where we want to impute the price  \n",
    "\n",
    "we are immputing price with average price of a noodle pack per customer in the given month"
   ]
  },
  {
   "cell_type": "code",
   "execution_count": 39,
   "metadata": {},
   "outputs": [],
   "source": [
    "# taking only those transactions where customer ordered \n",
    "df_sold = df[df.Quantity != 0][['Customer ID','month','year','price']]"
   ]
  },
  {
   "cell_type": "code",
   "execution_count": 40,
   "metadata": {},
   "outputs": [
    {
     "data": {
      "text/plain": [
       "(239832, 4)"
      ]
     },
     "execution_count": 40,
     "metadata": {},
     "output_type": "execute_result"
    }
   ],
   "source": [
    "# exporting all transactions where customer ordered for analysis\n",
    "df_sold.shape\n",
    "#df_sold.to_excel('df_sold.xlsx',index=False)"
   ]
  },
  {
   "cell_type": "code",
   "execution_count": 41,
   "metadata": {},
   "outputs": [],
   "source": [
    "# this will give us average price of a noodle pack for each customer per transaction in the given year and month\n",
    "df_avgprice_eachcustomer = df_sold.groupby(['year','month','Customer ID']).agg({'price':'mean'}).reset_index()"
   ]
  },
  {
   "cell_type": "code",
   "execution_count": 42,
   "metadata": {},
   "outputs": [],
   "source": [
    "# this will give us average price of a noodle pack per customer per transaction in the given year and month\n",
    "df_sold_averageprice = df_avgprice_eachcustomer.groupby(['year','month']).agg({'price':'mean'}).reset_index()"
   ]
  },
  {
   "cell_type": "code",
   "execution_count": 43,
   "metadata": {},
   "outputs": [],
   "source": [
    "# exporting for analysis\n",
    "#df_sold_averageprice.to_excel('monthly price.xlsx',index=False)"
   ]
  },
  {
   "cell_type": "markdown",
   "metadata": {},
   "source": [
    "imputing in the main dataframe"
   ]
  },
  {
   "cell_type": "code",
   "execution_count": 44,
   "metadata": {},
   "outputs": [],
   "source": [
    "del df_avgprice_eachcustomer"
   ]
  },
  {
   "cell_type": "code",
   "execution_count": 45,
   "metadata": {},
   "outputs": [
    {
     "data": {
      "text/plain": [
       "60"
      ]
     },
     "execution_count": 45,
     "metadata": {},
     "output_type": "execute_result"
    }
   ],
   "source": [
    "gc.collect()"
   ]
  },
  {
   "cell_type": "code",
   "execution_count": 46,
   "metadata": {},
   "outputs": [],
   "source": [
    "df_merge = pd.merge(df,df_sold_averageprice,how='left',on=['year','month'],suffixes=('_transaction','_monthlyaverage'))"
   ]
  },
  {
   "cell_type": "code",
   "execution_count": 47,
   "metadata": {},
   "outputs": [],
   "source": [
    "df_merge['price'] = df_merge['price_transaction']\n",
    "df_merge.loc[df_merge['price_transaction'].isna(),'price'] = df_merge.loc[df_merge['price_transaction'].isna(),'price_monthlyaverage'] "
   ]
  },
  {
   "cell_type": "code",
   "execution_count": 48,
   "metadata": {},
   "outputs": [],
   "source": [
    "df = df_merge.drop(['price_transaction','price_monthlyaverage'],axis=1).copy()"
   ]
  },
  {
   "cell_type": "code",
   "execution_count": 49,
   "metadata": {},
   "outputs": [
    {
     "name": "stdout",
     "output_type": "stream",
     "text": [
      "collecting garbage gc.collect()\n",
      "Memory usage decreased to 254.80 Mb (-10.5% reduction)\n"
     ]
    },
    {
     "data": {
      "text/plain": [
       "0"
      ]
     },
     "execution_count": 49,
     "metadata": {},
     "output_type": "execute_result"
    }
   ],
   "source": [
    "# optimizing memory of dataframe\n",
    "df = reduce_mem_usage(df)\n",
    "gc.collect()"
   ]
  },
  {
   "cell_type": "code",
   "execution_count": 50,
   "metadata": {},
   "outputs": [],
   "source": [
    "# deleting intermediary dataframes no longer being used\n",
    "del df_merge, df_sold_averageprice, df_sold"
   ]
  },
  {
   "cell_type": "code",
   "execution_count": 51,
   "metadata": {},
   "outputs": [
    {
     "data": {
      "text/html": [
       "<div>\n",
       "<style scoped>\n",
       "    .dataframe tbody tr th:only-of-type {\n",
       "        vertical-align: middle;\n",
       "    }\n",
       "\n",
       "    .dataframe tbody tr th {\n",
       "        vertical-align: top;\n",
       "    }\n",
       "\n",
       "    .dataframe thead th {\n",
       "        text-align: right;\n",
       "    }\n",
       "</style>\n",
       "<table border=\"1\" class=\"dataframe\">\n",
       "  <thead>\n",
       "    <tr style=\"text-align: right;\">\n",
       "      <th></th>\n",
       "      <th>Customer ID</th>\n",
       "      <th>Quantity</th>\n",
       "      <th>Invoice Value</th>\n",
       "      <th>Date</th>\n",
       "      <th>month</th>\n",
       "      <th>year</th>\n",
       "      <th>dayofmonth_sin</th>\n",
       "      <th>dayofmonth_cos</th>\n",
       "      <th>month_sin</th>\n",
       "      <th>month_cos</th>\n",
       "      <th>week_sin</th>\n",
       "      <th>week_cos</th>\n",
       "      <th>dayofweek_sin</th>\n",
       "      <th>dayofweek_cos</th>\n",
       "      <th>quarter_sin</th>\n",
       "      <th>quarter_cos</th>\n",
       "      <th>month_start_mid_end_sin</th>\n",
       "      <th>month_start_mid_end_cos</th>\n",
       "      <th>price</th>\n",
       "    </tr>\n",
       "  </thead>\n",
       "  <tbody>\n",
       "    <tr>\n",
       "      <th>0</th>\n",
       "      <td>500743788</td>\n",
       "      <td>0.0</td>\n",
       "      <td>0.000</td>\n",
       "      <td>2018-12-04</td>\n",
       "      <td>12</td>\n",
       "      <td>2018</td>\n",
       "      <td>0.724609</td>\n",
       "      <td>0.688965</td>\n",
       "      <td>-0.0</td>\n",
       "      <td>1.0</td>\n",
       "      <td>-0.354492</td>\n",
       "      <td>0.935059</td>\n",
       "      <td>0.781738</td>\n",
       "      <td>0.623535</td>\n",
       "      <td>-0.0</td>\n",
       "      <td>1.0</td>\n",
       "      <td>0.866211</td>\n",
       "      <td>-0.5</td>\n",
       "      <td>43.46875</td>\n",
       "    </tr>\n",
       "    <tr>\n",
       "      <th>1</th>\n",
       "      <td>500747617</td>\n",
       "      <td>0.0</td>\n",
       "      <td>0.000</td>\n",
       "      <td>2018-12-27</td>\n",
       "      <td>12</td>\n",
       "      <td>2018</td>\n",
       "      <td>-0.724609</td>\n",
       "      <td>0.688965</td>\n",
       "      <td>-0.0</td>\n",
       "      <td>1.0</td>\n",
       "      <td>-0.000000</td>\n",
       "      <td>1.000000</td>\n",
       "      <td>0.433838</td>\n",
       "      <td>-0.900879</td>\n",
       "      <td>-0.0</td>\n",
       "      <td>1.0</td>\n",
       "      <td>-0.000000</td>\n",
       "      <td>1.0</td>\n",
       "      <td>43.46875</td>\n",
       "    </tr>\n",
       "    <tr>\n",
       "      <th>2</th>\n",
       "      <td>500748185</td>\n",
       "      <td>1.0</td>\n",
       "      <td>43.625</td>\n",
       "      <td>2018-12-04</td>\n",
       "      <td>12</td>\n",
       "      <td>2018</td>\n",
       "      <td>0.724609</td>\n",
       "      <td>0.688965</td>\n",
       "      <td>-0.0</td>\n",
       "      <td>1.0</td>\n",
       "      <td>-0.354492</td>\n",
       "      <td>0.935059</td>\n",
       "      <td>0.781738</td>\n",
       "      <td>0.623535</td>\n",
       "      <td>-0.0</td>\n",
       "      <td>1.0</td>\n",
       "      <td>0.866211</td>\n",
       "      <td>-0.5</td>\n",
       "      <td>43.62500</td>\n",
       "    </tr>\n",
       "    <tr>\n",
       "      <th>3</th>\n",
       "      <td>500701019</td>\n",
       "      <td>1.0</td>\n",
       "      <td>43.625</td>\n",
       "      <td>2018-12-09</td>\n",
       "      <td>12</td>\n",
       "      <td>2018</td>\n",
       "      <td>0.968262</td>\n",
       "      <td>-0.250732</td>\n",
       "      <td>-0.0</td>\n",
       "      <td>1.0</td>\n",
       "      <td>-0.354492</td>\n",
       "      <td>0.935059</td>\n",
       "      <td>-0.781738</td>\n",
       "      <td>0.623535</td>\n",
       "      <td>-0.0</td>\n",
       "      <td>1.0</td>\n",
       "      <td>-0.866211</td>\n",
       "      <td>-0.5</td>\n",
       "      <td>43.62500</td>\n",
       "    </tr>\n",
       "    <tr>\n",
       "      <th>4</th>\n",
       "      <td>500052656</td>\n",
       "      <td>0.0</td>\n",
       "      <td>0.000</td>\n",
       "      <td>2018-12-13</td>\n",
       "      <td>12</td>\n",
       "      <td>2018</td>\n",
       "      <td>0.485352</td>\n",
       "      <td>-0.874512</td>\n",
       "      <td>-0.0</td>\n",
       "      <td>1.0</td>\n",
       "      <td>-0.239258</td>\n",
       "      <td>0.970703</td>\n",
       "      <td>0.433838</td>\n",
       "      <td>-0.900879</td>\n",
       "      <td>-0.0</td>\n",
       "      <td>1.0</td>\n",
       "      <td>-0.866211</td>\n",
       "      <td>-0.5</td>\n",
       "      <td>43.46875</td>\n",
       "    </tr>\n",
       "  </tbody>\n",
       "</table>\n",
       "</div>"
      ],
      "text/plain": [
       "  Customer ID  Quantity  Invoice Value       Date  month  year  \\\n",
       "0   500743788       0.0          0.000 2018-12-04     12  2018   \n",
       "1   500747617       0.0          0.000 2018-12-27     12  2018   \n",
       "2   500748185       1.0         43.625 2018-12-04     12  2018   \n",
       "3   500701019       1.0         43.625 2018-12-09     12  2018   \n",
       "4   500052656       0.0          0.000 2018-12-13     12  2018   \n",
       "\n",
       "   dayofmonth_sin  dayofmonth_cos  month_sin  month_cos  week_sin  week_cos  \\\n",
       "0        0.724609        0.688965       -0.0        1.0 -0.354492  0.935059   \n",
       "1       -0.724609        0.688965       -0.0        1.0 -0.000000  1.000000   \n",
       "2        0.724609        0.688965       -0.0        1.0 -0.354492  0.935059   \n",
       "3        0.968262       -0.250732       -0.0        1.0 -0.354492  0.935059   \n",
       "4        0.485352       -0.874512       -0.0        1.0 -0.239258  0.970703   \n",
       "\n",
       "   dayofweek_sin  dayofweek_cos  quarter_sin  quarter_cos  \\\n",
       "0       0.781738       0.623535         -0.0          1.0   \n",
       "1       0.433838      -0.900879         -0.0          1.0   \n",
       "2       0.781738       0.623535         -0.0          1.0   \n",
       "3      -0.781738       0.623535         -0.0          1.0   \n",
       "4       0.433838      -0.900879         -0.0          1.0   \n",
       "\n",
       "   month_start_mid_end_sin  month_start_mid_end_cos     price  \n",
       "0                 0.866211                     -0.5  43.46875  \n",
       "1                -0.000000                      1.0  43.46875  \n",
       "2                 0.866211                     -0.5  43.62500  \n",
       "3                -0.866211                     -0.5  43.62500  \n",
       "4                -0.866211                     -0.5  43.46875  "
      ]
     },
     "execution_count": 51,
     "metadata": {},
     "output_type": "execute_result"
    }
   ],
   "source": [
    "df.head()"
   ]
  },
  {
   "cell_type": "code",
   "execution_count": null,
   "metadata": {},
   "outputs": [],
   "source": []
  },
  {
   "cell_type": "code",
   "execution_count": 52,
   "metadata": {},
   "outputs": [
    {
     "name": "stdout",
     "output_type": "stream",
     "text": [
      "collecting garbage gc.collect()\n",
      "Memory usage decreased to 254.80 Mb (0.0% reduction)\n"
     ]
    },
    {
     "data": {
      "text/plain": [
       "0"
      ]
     },
     "execution_count": 52,
     "metadata": {},
     "output_type": "execute_result"
    }
   ],
   "source": [
    "# optimizing memory of dataframe\n",
    "df = reduce_mem_usage(df)\n",
    "gc.collect()"
   ]
  },
  {
   "cell_type": "markdown",
   "metadata": {},
   "source": [
    "## Exploratory Data Analysis  "
   ]
  },
  {
   "cell_type": "code",
   "execution_count": 53,
   "metadata": {},
   "outputs": [
    {
     "name": "stdout",
     "output_type": "stream",
     "text": [
      "Total no. of rows we have: 4,240,880\n",
      "Total no. of unique Customer IDs we have:  73,413\n"
     ]
    }
   ],
   "source": [
    "print(f'Total no. of rows we have: {comma_format(df.shape[0])}')\n",
    "print(f'Total no. of unique Customer IDs we have: ',comma_format(len(df['Customer ID'].unique())))"
   ]
  },
  {
   "cell_type": "markdown",
   "metadata": {},
   "source": [
    "#### there are customers which have never bought from ABC Ltd even after multiple visits from sales representative\n",
    "it is a business assumption that they will not buy from ABC   \n",
    "so these will be separated and their estimation will be zero quantity always"
   ]
  },
  {
   "cell_type": "code",
   "execution_count": null,
   "metadata": {},
   "outputs": [],
   "source": []
  },
  {
   "cell_type": "markdown",
   "metadata": {},
   "source": [
    "#### export to excel for plotting \n",
    "**average price of a noodle pack per customer vs average quantity ordered per customer**"
   ]
  },
  {
   "cell_type": "code",
   "execution_count": 54,
   "metadata": {},
   "outputs": [
    {
     "data": {
      "text/html": [
       "<div>\n",
       "<style scoped>\n",
       "    .dataframe tbody tr th:only-of-type {\n",
       "        vertical-align: middle;\n",
       "    }\n",
       "\n",
       "    .dataframe tbody tr th {\n",
       "        vertical-align: top;\n",
       "    }\n",
       "\n",
       "    .dataframe thead th {\n",
       "        text-align: right;\n",
       "    }\n",
       "</style>\n",
       "<table border=\"1\" class=\"dataframe\">\n",
       "  <thead>\n",
       "    <tr style=\"text-align: right;\">\n",
       "      <th></th>\n",
       "      <th>Customer ID</th>\n",
       "      <th>Quantity</th>\n",
       "      <th>Invoice Value</th>\n",
       "      <th>Date</th>\n",
       "      <th>month</th>\n",
       "      <th>year</th>\n",
       "      <th>dayofmonth_sin</th>\n",
       "      <th>dayofmonth_cos</th>\n",
       "      <th>month_sin</th>\n",
       "      <th>month_cos</th>\n",
       "      <th>week_sin</th>\n",
       "      <th>week_cos</th>\n",
       "      <th>dayofweek_sin</th>\n",
       "      <th>dayofweek_cos</th>\n",
       "      <th>quarter_sin</th>\n",
       "      <th>quarter_cos</th>\n",
       "      <th>month_start_mid_end_sin</th>\n",
       "      <th>month_start_mid_end_cos</th>\n",
       "      <th>price</th>\n",
       "    </tr>\n",
       "  </thead>\n",
       "  <tbody>\n",
       "    <tr>\n",
       "      <th>0</th>\n",
       "      <td>500743788</td>\n",
       "      <td>0.0</td>\n",
       "      <td>0.000</td>\n",
       "      <td>2018-12-04</td>\n",
       "      <td>12</td>\n",
       "      <td>2018</td>\n",
       "      <td>0.724609</td>\n",
       "      <td>0.688965</td>\n",
       "      <td>-0.0</td>\n",
       "      <td>1.0</td>\n",
       "      <td>-0.354492</td>\n",
       "      <td>0.935059</td>\n",
       "      <td>0.781738</td>\n",
       "      <td>0.623535</td>\n",
       "      <td>-0.0</td>\n",
       "      <td>1.0</td>\n",
       "      <td>0.866211</td>\n",
       "      <td>-0.5</td>\n",
       "      <td>43.46875</td>\n",
       "    </tr>\n",
       "    <tr>\n",
       "      <th>1</th>\n",
       "      <td>500747617</td>\n",
       "      <td>0.0</td>\n",
       "      <td>0.000</td>\n",
       "      <td>2018-12-27</td>\n",
       "      <td>12</td>\n",
       "      <td>2018</td>\n",
       "      <td>-0.724609</td>\n",
       "      <td>0.688965</td>\n",
       "      <td>-0.0</td>\n",
       "      <td>1.0</td>\n",
       "      <td>-0.000000</td>\n",
       "      <td>1.000000</td>\n",
       "      <td>0.433838</td>\n",
       "      <td>-0.900879</td>\n",
       "      <td>-0.0</td>\n",
       "      <td>1.0</td>\n",
       "      <td>-0.000000</td>\n",
       "      <td>1.0</td>\n",
       "      <td>43.46875</td>\n",
       "    </tr>\n",
       "    <tr>\n",
       "      <th>2</th>\n",
       "      <td>500748185</td>\n",
       "      <td>1.0</td>\n",
       "      <td>43.625</td>\n",
       "      <td>2018-12-04</td>\n",
       "      <td>12</td>\n",
       "      <td>2018</td>\n",
       "      <td>0.724609</td>\n",
       "      <td>0.688965</td>\n",
       "      <td>-0.0</td>\n",
       "      <td>1.0</td>\n",
       "      <td>-0.354492</td>\n",
       "      <td>0.935059</td>\n",
       "      <td>0.781738</td>\n",
       "      <td>0.623535</td>\n",
       "      <td>-0.0</td>\n",
       "      <td>1.0</td>\n",
       "      <td>0.866211</td>\n",
       "      <td>-0.5</td>\n",
       "      <td>43.62500</td>\n",
       "    </tr>\n",
       "    <tr>\n",
       "      <th>3</th>\n",
       "      <td>500701019</td>\n",
       "      <td>1.0</td>\n",
       "      <td>43.625</td>\n",
       "      <td>2018-12-09</td>\n",
       "      <td>12</td>\n",
       "      <td>2018</td>\n",
       "      <td>0.968262</td>\n",
       "      <td>-0.250732</td>\n",
       "      <td>-0.0</td>\n",
       "      <td>1.0</td>\n",
       "      <td>-0.354492</td>\n",
       "      <td>0.935059</td>\n",
       "      <td>-0.781738</td>\n",
       "      <td>0.623535</td>\n",
       "      <td>-0.0</td>\n",
       "      <td>1.0</td>\n",
       "      <td>-0.866211</td>\n",
       "      <td>-0.5</td>\n",
       "      <td>43.62500</td>\n",
       "    </tr>\n",
       "    <tr>\n",
       "      <th>4</th>\n",
       "      <td>500052656</td>\n",
       "      <td>0.0</td>\n",
       "      <td>0.000</td>\n",
       "      <td>2018-12-13</td>\n",
       "      <td>12</td>\n",
       "      <td>2018</td>\n",
       "      <td>0.485352</td>\n",
       "      <td>-0.874512</td>\n",
       "      <td>-0.0</td>\n",
       "      <td>1.0</td>\n",
       "      <td>-0.239258</td>\n",
       "      <td>0.970703</td>\n",
       "      <td>0.433838</td>\n",
       "      <td>-0.900879</td>\n",
       "      <td>-0.0</td>\n",
       "      <td>1.0</td>\n",
       "      <td>-0.866211</td>\n",
       "      <td>-0.5</td>\n",
       "      <td>43.46875</td>\n",
       "    </tr>\n",
       "  </tbody>\n",
       "</table>\n",
       "</div>"
      ],
      "text/plain": [
       "  Customer ID  Quantity  Invoice Value       Date  month  year  \\\n",
       "0   500743788       0.0          0.000 2018-12-04     12  2018   \n",
       "1   500747617       0.0          0.000 2018-12-27     12  2018   \n",
       "2   500748185       1.0         43.625 2018-12-04     12  2018   \n",
       "3   500701019       1.0         43.625 2018-12-09     12  2018   \n",
       "4   500052656       0.0          0.000 2018-12-13     12  2018   \n",
       "\n",
       "   dayofmonth_sin  dayofmonth_cos  month_sin  month_cos  week_sin  week_cos  \\\n",
       "0        0.724609        0.688965       -0.0        1.0 -0.354492  0.935059   \n",
       "1       -0.724609        0.688965       -0.0        1.0 -0.000000  1.000000   \n",
       "2        0.724609        0.688965       -0.0        1.0 -0.354492  0.935059   \n",
       "3        0.968262       -0.250732       -0.0        1.0 -0.354492  0.935059   \n",
       "4        0.485352       -0.874512       -0.0        1.0 -0.239258  0.970703   \n",
       "\n",
       "   dayofweek_sin  dayofweek_cos  quarter_sin  quarter_cos  \\\n",
       "0       0.781738       0.623535         -0.0          1.0   \n",
       "1       0.433838      -0.900879         -0.0          1.0   \n",
       "2       0.781738       0.623535         -0.0          1.0   \n",
       "3      -0.781738       0.623535         -0.0          1.0   \n",
       "4       0.433838      -0.900879         -0.0          1.0   \n",
       "\n",
       "   month_start_mid_end_sin  month_start_mid_end_cos     price  \n",
       "0                 0.866211                     -0.5  43.46875  \n",
       "1                -0.000000                      1.0  43.46875  \n",
       "2                 0.866211                     -0.5  43.62500  \n",
       "3                -0.866211                     -0.5  43.62500  \n",
       "4                -0.866211                     -0.5  43.46875  "
      ]
     },
     "execution_count": 54,
     "metadata": {},
     "output_type": "execute_result"
    }
   ],
   "source": [
    "df.head()"
   ]
  },
  {
   "cell_type": "code",
   "execution_count": 55,
   "metadata": {},
   "outputs": [],
   "source": [
    "# taking only data points where we sold noodles \n",
    "# this is done so that we can get price and quantity estimates correct without any 0 values in between\n",
    "df_sold = df[df.Quantity != 0]"
   ]
  },
  {
   "cell_type": "code",
   "execution_count": 56,
   "metadata": {},
   "outputs": [],
   "source": [
    "df_sold_group = df_sold[['Customer ID','Date','Quantity','price']].groupby('Date').mean().reset_index()"
   ]
  },
  {
   "cell_type": "code",
   "execution_count": 57,
   "metadata": {},
   "outputs": [],
   "source": [
    "#df_group.sort_values('Date').to_excel('df_sold_group.xlsx',index=False)"
   ]
  },
  {
   "cell_type": "code",
   "execution_count": 58,
   "metadata": {},
   "outputs": [],
   "source": [
    "del df_sold, df_sold_group"
   ]
  },
  {
   "cell_type": "markdown",
   "metadata": {},
   "source": [
    "**Inference**:  \n",
    "slightly increase in price of noodles. We can clearly see the dates around which the prices were increased. Show average price and increase in a table.  \n",
    "except for one outlier, we see that demand has more or less stable, despite increase in price.  \n",
    "Also, there are peaks in quantity ordered around the date prices were increased. This could point towards marketing such as (rebranding and increasing price), promotions etc.  \n",
    "if we could know this for incoming data, we can also add this as feature."
   ]
  },
  {
   "cell_type": "markdown",
   "metadata": {},
   "source": [
    "#### export to plot histogram of counts "
   ]
  },
  {
   "cell_type": "code",
   "execution_count": 59,
   "metadata": {},
   "outputs": [],
   "source": [
    "#df['Customer ID'].value_counts().to_excel('CustomerID_Counts.xlsx')"
   ]
  },
  {
   "cell_type": "markdown",
   "metadata": {},
   "source": [
    "**Inference**:  \n",
    "histogram of the count or number of times a customer bought from the ABC Ltd.  \n",
    "There come out three different categories of customers:  \n",
    "1. those who bought a lot\n",
    "2. those who bought some\n",
    "3. those who bought very less \n",
    "\n",
    "Make segment the cusotmers in categories using k-means clustering with 3 clusters and value counts as the only numerical variable. Calculate average quantity ordered per customer per day for each cluster.  \n",
    "Create a feature for each customer with the calculate average quantity for the cluster in which the customer belongs."
   ]
  },
  {
   "cell_type": "markdown",
   "metadata": {},
   "source": [
    "There are many customers. Ideally such model would work better if we trained one for each Customer as behaviour of each Customer is different.  \n",
    "There are two main challenges for not being able to this:  \n",
    "1. Not each Customers have enough data points, the max data points we have are for customer 500015112 which is 368.\n",
    "2. Also there too are many customers to do this for each customer in the given time. 60,921 out of 73,413 i.e. 83% have less than 100 data points."
   ]
  },
  {
   "cell_type": "code",
   "execution_count": null,
   "metadata": {},
   "outputs": [],
   "source": []
  },
  {
   "cell_type": "markdown",
   "metadata": {},
   "source": [
    "### average visits ABC Ltd salesman makes to customers in a month"
   ]
  },
  {
   "cell_type": "code",
   "execution_count": null,
   "metadata": {},
   "outputs": [],
   "source": []
  },
  {
   "cell_type": "code",
   "execution_count": null,
   "metadata": {},
   "outputs": [],
   "source": []
  },
  {
   "cell_type": "code",
   "execution_count": null,
   "metadata": {},
   "outputs": [],
   "source": []
  },
  {
   "cell_type": "code",
   "execution_count": null,
   "metadata": {},
   "outputs": [],
   "source": []
  },
  {
   "cell_type": "markdown",
   "metadata": {},
   "source": [
    "# Modelling"
   ]
  },
  {
   "cell_type": "markdown",
   "metadata": {},
   "source": [
    "## Train and Test Data  \n",
    "Training Data:  Jan 2018 - Dec 2018, Test Data:  Jan 2019 - Mar 2019"
   ]
  },
  {
   "cell_type": "code",
   "execution_count": 60,
   "metadata": {},
   "outputs": [
    {
     "data": {
      "text/plain": [
       "Timestamp('2018-01-02 00:00:00')"
      ]
     },
     "execution_count": 60,
     "metadata": {},
     "output_type": "execute_result"
    }
   ],
   "source": [
    "df.Date.min()"
   ]
  },
  {
   "cell_type": "code",
   "execution_count": 61,
   "metadata": {},
   "outputs": [
    {
     "data": {
      "text/plain": [
       "Timestamp('2019-03-31 00:00:00')"
      ]
     },
     "execution_count": 61,
     "metadata": {},
     "output_type": "execute_result"
    }
   ],
   "source": [
    "df.Date.max()"
   ]
  },
  {
   "cell_type": "code",
   "execution_count": 62,
   "metadata": {},
   "outputs": [
    {
     "data": {
      "text/plain": [
       "(4240880, 19)"
      ]
     },
     "execution_count": 62,
     "metadata": {},
     "output_type": "execute_result"
    }
   ],
   "source": [
    "df.shape"
   ]
  },
  {
   "cell_type": "code",
   "execution_count": 63,
   "metadata": {},
   "outputs": [],
   "source": [
    "df_train = df[df['year'] == 2018]"
   ]
  },
  {
   "cell_type": "code",
   "execution_count": 64,
   "metadata": {},
   "outputs": [],
   "source": [
    "df_test = df[df['year'] == 2019]"
   ]
  },
  {
   "cell_type": "code",
   "execution_count": 65,
   "metadata": {},
   "outputs": [],
   "source": [
    "df_train.to_csv('df_train.csv',index=False)"
   ]
  },
  {
   "cell_type": "code",
   "execution_count": 66,
   "metadata": {},
   "outputs": [],
   "source": [
    "df_test.to_csv('df_test.csv',index=False)"
   ]
  },
  {
   "cell_type": "markdown",
   "metadata": {},
   "source": [
    "### Customer Clusters Feature  \n",
    "There are customers which have never bought from ABC ltd. These customers are not expected to start buying and hence the estimation for these will be fixed at 0\n",
    "\n",
    "After removing above customers, upon lookinng at the hsitogram of number of time ABC ltd sales visits a customer, all customers can be segmented in three different clusters.  \n",
    "1. with high visits\n",
    "2. with medium visits\n",
    "3. with low visits"
   ]
  },
  {
   "cell_type": "markdown",
   "metadata": {},
   "source": [
    "customers who never ordered from ABC, despite ABC sales representative visiting them atleast once.  \n",
    "Quantitiy estimation for them will always be 0 as there may be some unspecified reason for them to not order from ABC ltd.\n",
    "\n",
    "New customers will be added tagged to clusters with low visits."
   ]
  },
  {
   "cell_type": "markdown",
   "metadata": {},
   "source": [
    "## K-Means clustering on count of visits and average quantity per visit"
   ]
  },
  {
   "cell_type": "code",
   "execution_count": 67,
   "metadata": {},
   "outputs": [],
   "source": [
    "df_train_group = df_train.groupby(['Customer ID']).agg({'Quantity':['sum','count']}).reset_index()"
   ]
  },
  {
   "cell_type": "code",
   "execution_count": 68,
   "metadata": {},
   "outputs": [],
   "source": [
    "df_train_group.columns = ['Customer ID','Quantity_Sum','Quantity_Count']"
   ]
  },
  {
   "cell_type": "code",
   "execution_count": 69,
   "metadata": {},
   "outputs": [],
   "source": [
    "df_train_group['AverageQuantityPerVisit'] = df_train_group['Quantity_Sum']/df_train_group['Quantity_Count']"
   ]
  },
  {
   "cell_type": "code",
   "execution_count": null,
   "metadata": {},
   "outputs": [],
   "source": []
  },
  {
   "cell_type": "code",
   "execution_count": 70,
   "metadata": {},
   "outputs": [],
   "source": [
    "x = df_train_group.loc[:,['Quantity_Count','AverageQuantityPerVisit']].values"
   ]
  },
  {
   "cell_type": "markdown",
   "metadata": {},
   "source": [
    "### using elbow method to find optimal no. of clusters"
   ]
  },
  {
   "cell_type": "code",
   "execution_count": 71,
   "metadata": {},
   "outputs": [
    {
     "data": {
      "image/png": "[encoded data removed]",
      "text/plain": [
       "<Figure size 432x288 with 1 Axes>"
      ]
     },
     "metadata": {
      "needs_background": "light"
     },
     "output_type": "display_data"
    }
   ],
   "source": [
    "Error =[]\n",
    "\n",
    "for i in range(1, 11):\n",
    "    kmeans = KMeans(n_clusters = i).fit(x)\n",
    "    kmeans.fit(x)\n",
    "    Error.append(kmeans.inertia_)\n",
    "\n",
    "plt.plot(range(1, 11), Error)\n",
    "plt.title('Elbow method')\n",
    "plt.xlabel('No of clusters')\n",
    "plt.ylabel('Error')\n",
    "plt.show()"
   ]
  },
  {
   "cell_type": "markdown",
   "metadata": {},
   "source": [
    "**Inference**  \n",
    "3 clusters seems optimal, as expected"
   ]
  },
  {
   "cell_type": "code",
   "execution_count": 72,
   "metadata": {},
   "outputs": [
    {
     "name": "stdout",
     "output_type": "stream",
     "text": [
      "[2 0 1 ... 2 2 2]\n"
     ]
    },
    {
     "data": {
      "text/plain": [
       "array([[4.86949061e+01, 8.97949148e-02],\n",
       "       [9.26017285e+01, 1.51589810e-01],\n",
       "       [1.59410348e+01, 8.26644188e-02]])"
      ]
     },
     "execution_count": 72,
     "metadata": {},
     "output_type": "execute_result"
    }
   ],
   "source": [
    "kmeans3 = KMeans(n_clusters=3)\n",
    "y_kmeans3 = kmeans3.fit_predict(x)\n",
    "print(y_kmeans3)\n",
    "\n",
    "kmeans3.cluster_centers_"
   ]
  },
  {
   "cell_type": "code",
   "execution_count": 73,
   "metadata": {},
   "outputs": [
    {
     "data": {
      "text/plain": [
       "Text(0, 0.5, 'Average Quantity per Visit')"
      ]
     },
     "execution_count": 73,
     "metadata": {},
     "output_type": "execute_result"
    },
    {
     "data": {
      "image/png": "[encoded data removed]",
      "text/plain": [
       "<Figure size 432x288 with 1 Axes>"
      ]
     },
     "metadata": {
      "needs_background": "light"
     },
     "output_type": "display_data"
    }
   ],
   "source": [
    "plt.scatter(x[:,0],x[:,1], c=y_kmeans3, cmap='rainbow')\n",
    "plt.xlabel('No. of Visits by ABC Sales Representatives')\n",
    "plt.ylabel('Average Quantity per Visit')"
   ]
  },
  {
   "cell_type": "code",
   "execution_count": 74,
   "metadata": {},
   "outputs": [
    {
     "data": {
      "text/plain": [
       "array([2, 0, 1, ..., 2, 2, 2])"
      ]
     },
     "execution_count": 74,
     "metadata": {},
     "output_type": "execute_result"
    }
   ],
   "source": [
    "y_kmeans3"
   ]
  },
  {
   "cell_type": "code",
   "execution_count": 75,
   "metadata": {},
   "outputs": [],
   "source": [
    "df_train_group['Customer_Cluster'] = y_kmeans3"
   ]
  },
  {
   "cell_type": "code",
   "execution_count": 76,
   "metadata": {},
   "outputs": [
    {
     "data": {
      "text/plain": [
       "array([2, 0, 1])"
      ]
     },
     "execution_count": 76,
     "metadata": {},
     "output_type": "execute_result"
    }
   ],
   "source": [
    "df_train_group.Customer_Cluster.unique()"
   ]
  },
  {
   "cell_type": "code",
   "execution_count": 77,
   "metadata": {},
   "outputs": [],
   "source": [
    "# cluster number that came out of kmeans is 1=high visist,2=medium visit,0=low visit\n",
    "# we want opposite order i.e. 3=High Visits, 2=Medium Visits, 1=Low Visits\n",
    "df_train_group.loc[df_train_group['Customer_Cluster'] == 1,'Customer_Cluster'] = 3\n",
    "df_train_group.loc[df_train_group['Customer_Cluster'] == 0,'Customer_Cluster'] = 1"
   ]
  },
  {
   "cell_type": "code",
   "execution_count": 78,
   "metadata": {},
   "outputs": [
    {
     "data": {
      "text/plain": [
       "array([2, 1, 3])"
      ]
     },
     "execution_count": 78,
     "metadata": {},
     "output_type": "execute_result"
    }
   ],
   "source": [
    "df_train_group.Customer_Cluster.unique()"
   ]
  },
  {
   "cell_type": "code",
   "execution_count": 79,
   "metadata": {},
   "outputs": [],
   "source": [
    "df_train_group.to_csv('customer_cluster_train.csv',index=False)"
   ]
  },
  {
   "cell_type": "code",
   "execution_count": 80,
   "metadata": {},
   "outputs": [
    {
     "data": {
      "text/plain": [
       "2787"
      ]
     },
     "execution_count": 80,
     "metadata": {},
     "output_type": "execute_result"
    }
   ],
   "source": [
    "gc.collect()"
   ]
  },
  {
   "cell_type": "code",
   "execution_count": 81,
   "metadata": {},
   "outputs": [],
   "source": [
    "del y_kmeans3,df_train_group"
   ]
  },
  {
   "cell_type": "markdown",
   "metadata": {},
   "source": [
    "## Assigning customer clusters to test data"
   ]
  },
  {
   "cell_type": "markdown",
   "metadata": {},
   "source": [
    "**any new customer will be assigned to customer cluster 1 as it is the one with lowest visits**"
   ]
  },
  {
   "cell_type": "markdown",
   "metadata": {},
   "source": [
    "**This dataframe has all the customers for which estimation will always be 0 as they have never bought from ABC in past**"
   ]
  },
  {
   "cell_type": "code",
   "execution_count": 82,
   "metadata": {},
   "outputs": [],
   "source": [
    "df_train_group_quantity = df_train.groupby(['Customer ID']).agg({'Quantity':'max'}).reset_index()"
   ]
  },
  {
   "cell_type": "code",
   "execution_count": 83,
   "metadata": {},
   "outputs": [],
   "source": [
    "df_train_zero_qty_customers = df_train_group_quantity[df_train_group_quantity['Quantity'] == 0]"
   ]
  },
  {
   "cell_type": "code",
   "execution_count": 84,
   "metadata": {},
   "outputs": [],
   "source": [
    "df_train_zero_qty_customers.to_csv('df_train_zero_qty_customers.csv',index=False)"
   ]
  },
  {
   "cell_type": "code",
   "execution_count": 85,
   "metadata": {},
   "outputs": [
    {
     "data": {
      "text/plain": [
       "(37618, 2)"
      ]
     },
     "execution_count": 85,
     "metadata": {},
     "output_type": "execute_result"
    }
   ],
   "source": [
    "df_train_zero_qty_customers.shape"
   ]
  },
  {
   "cell_type": "code",
   "execution_count": 86,
   "metadata": {},
   "outputs": [],
   "source": [
    "# taking only customers which have ordered with ABC ltd in past\n",
    "df_train_regress = df_train[~df_train['Customer ID'].isin(df_train_zero_qty_customers['Customer ID'].unique())]"
   ]
  },
  {
   "cell_type": "code",
   "execution_count": 87,
   "metadata": {},
   "outputs": [
    {
     "name": "stderr",
     "output_type": "stream",
     "text": [
      "<ipython-input-3-7c16533c7d78>:23: SettingWithCopyWarning: \n",
      "A value is trying to be set on a copy of a slice from a DataFrame.\n",
      "Try using .loc[row_indexer,col_indexer] = value instead\n",
      "\n",
      "See the caveats in the documentation: https://pandas.pydata.org/pandas-docs/stable/user_guide/indexing.html#returning-a-view-versus-a-copy\n",
      "  df[col] = df[col].astype(np.float16)\n",
      "<ipython-input-3-7c16533c7d78>:16: SettingWithCopyWarning: \n",
      "A value is trying to be set on a copy of a slice from a DataFrame.\n",
      "Try using .loc[row_indexer,col_indexer] = value instead\n",
      "\n",
      "See the caveats in the documentation: https://pandas.pydata.org/pandas-docs/stable/user_guide/indexing.html#returning-a-view-versus-a-copy\n",
      "  df[col] = df[col].astype(np.int16)\n"
     ]
    },
    {
     "name": "stdout",
     "output_type": "stream",
     "text": [
      "collecting garbage gc.collect()\n",
      "Memory usage decreased to 117.58 Mb (0.0% reduction)\n"
     ]
    },
    {
     "name": "stderr",
     "output_type": "stream",
     "text": [
      "<ipython-input-3-7c16533c7d78>:27: SettingWithCopyWarning: \n",
      "A value is trying to be set on a copy of a slice from a DataFrame.\n",
      "Try using .loc[row_indexer,col_indexer] = value instead\n",
      "\n",
      "See the caveats in the documentation: https://pandas.pydata.org/pandas-docs/stable/user_guide/indexing.html#returning-a-view-versus-a-copy\n",
      "  df[col] = df[col].astype(np.float64)\n"
     ]
    },
    {
     "data": {
      "text/plain": [
       "0"
      ]
     },
     "execution_count": 87,
     "metadata": {},
     "output_type": "execute_result"
    }
   ],
   "source": [
    "df_train_regress = reduce_mem_usage(df_train_regress)\n",
    "gc.collect()"
   ]
  },
  {
   "cell_type": "code",
   "execution_count": 88,
   "metadata": {},
   "outputs": [],
   "source": [
    "df_train_regress.to_csv('df_train_regress.csv',index=False)"
   ]
  },
  {
   "cell_type": "markdown",
   "metadata": {},
   "source": [
    "Suggestion: no. of days from previous visit can also be a feature"
   ]
  },
  {
   "cell_type": "code",
   "execution_count": 89,
   "metadata": {},
   "outputs": [
    {
     "name": "stderr",
     "output_type": "stream",
     "text": [
      "<ipython-input-3-7c16533c7d78>:23: SettingWithCopyWarning: \n",
      "A value is trying to be set on a copy of a slice from a DataFrame.\n",
      "Try using .loc[row_indexer,col_indexer] = value instead\n",
      "\n",
      "See the caveats in the documentation: https://pandas.pydata.org/pandas-docs/stable/user_guide/indexing.html#returning-a-view-versus-a-copy\n",
      "  df[col] = df[col].astype(np.float16)\n",
      "<ipython-input-3-7c16533c7d78>:16: SettingWithCopyWarning: \n",
      "A value is trying to be set on a copy of a slice from a DataFrame.\n",
      "Try using .loc[row_indexer,col_indexer] = value instead\n",
      "\n",
      "See the caveats in the documentation: https://pandas.pydata.org/pandas-docs/stable/user_guide/indexing.html#returning-a-view-versus-a-copy\n",
      "  df[col] = df[col].astype(np.int16)\n"
     ]
    },
    {
     "name": "stdout",
     "output_type": "stream",
     "text": [
      "collecting garbage gc.collect()\n",
      "Memory usage decreased to 117.58 Mb (0.0% reduction)\n"
     ]
    },
    {
     "name": "stderr",
     "output_type": "stream",
     "text": [
      "<ipython-input-3-7c16533c7d78>:27: SettingWithCopyWarning: \n",
      "A value is trying to be set on a copy of a slice from a DataFrame.\n",
      "Try using .loc[row_indexer,col_indexer] = value instead\n",
      "\n",
      "See the caveats in the documentation: https://pandas.pydata.org/pandas-docs/stable/user_guide/indexing.html#returning-a-view-versus-a-copy\n",
      "  df[col] = df[col].astype(np.float64)\n"
     ]
    }
   ],
   "source": [
    "df_train_regress = reduce_mem_usage(df_train_regress)"
   ]
  },
  {
   "cell_type": "code",
   "execution_count": 90,
   "metadata": {},
   "outputs": [
    {
     "name": "stdout",
     "output_type": "stream",
     "text": [
      "<class 'pandas.core.frame.DataFrame'>\n",
      "Int64Index: 1957002 entries, 0 to 4240877\n",
      "Data columns (total 19 columns):\n",
      " #   Column                   Dtype         \n",
      "---  ------                   -----         \n",
      " 0   Customer ID              object        \n",
      " 1   Quantity                 float16       \n",
      " 2   Invoice Value            float16       \n",
      " 3   Date                     datetime64[ns]\n",
      " 4   month                    int8          \n",
      " 5   year                     int16         \n",
      " 6   dayofmonth_sin           float16       \n",
      " 7   dayofmonth_cos           float16       \n",
      " 8   month_sin                float16       \n",
      " 9   month_cos                float16       \n",
      " 10  week_sin                 float16       \n",
      " 11  week_cos                 float16       \n",
      " 12  dayofweek_sin            float16       \n",
      " 13  dayofweek_cos            float16       \n",
      " 14  quarter_sin              float16       \n",
      " 15  quarter_cos              float16       \n",
      " 16  month_start_mid_end_sin  float16       \n",
      " 17  month_start_mid_end_cos  float16       \n",
      " 18  price                    float64       \n",
      "dtypes: datetime64[ns](1), float16(14), float64(1), int16(1), int8(1), object(1)\n",
      "memory usage: 117.6+ MB\n"
     ]
    }
   ],
   "source": [
    "df_train_regress.info()"
   ]
  },
  {
   "cell_type": "code",
   "execution_count": null,
   "metadata": {},
   "outputs": [],
   "source": []
  },
  {
   "cell_type": "code",
   "execution_count": null,
   "metadata": {},
   "outputs": [],
   "source": []
  },
  {
   "cell_type": "code",
   "execution_count": null,
   "metadata": {},
   "outputs": [],
   "source": []
  }
 ],
 "metadata": {
  "kernelspec": {
   "display_name": "DecisionPoint_SeriesForecasting-oxTTuEuo",
   "language": "python",
   "name": "decisionpoint_seriesforecasting-oxttueuo"
  },
  "language_info": {
   "codemirror_mode": {
    "name": "ipython",
    "version": 3
   },
   "file_extension": ".py",
   "mimetype": "text/x-python",
   "name": "python",
   "nbconvert_exporter": "python",
   "pygments_lexer": "ipython3",
   "version": "3.8.3"
  }
 },
 "nbformat": 4,
 "nbformat_minor": 4
}
