{
 "cells": [
  {
   "cell_type": "markdown",
   "metadata": {},
   "source": [
    "# Imports"
   ]
  },
  {
   "cell_type": "code",
   "execution_count": 1,
   "metadata": {},
   "outputs": [],
   "source": [
    "import pandas as pd, numpy as np, gc, pickle\n",
    "from sklearn.model_selection import train_test_split\n",
    "from sklearn import metrics\n",
    "from sklearn.metrics import confusion_matrix\n",
    "from sklearn.ensemble import RandomForestClassifier, RandomForestRegressor\n",
    "from sklearn.model_selection import GridSearchCV\n",
    "from matplotlib import pyplot as plt"
   ]
  },
  {
   "cell_type": "code",
   "execution_count": 2,
   "metadata": {},
   "outputs": [],
   "source": [
    "def reduce_mem_usage(df, verbose=True):\n",
    "    '''\n",
    "    takes in a dataframe and optimizes the data types of numeric columns according to the range of values in them\n",
    "    '''\n",
    "    numerics = ['int16', 'int32', 'int64', 'float16', 'float32', 'float64']\n",
    "    start_mem = df.memory_usage().sum() / 1024**2 # conversion from bytes to Mb\n",
    "    for col in df.columns:\n",
    "        col_type = df[col].dtypes\n",
    "        if col_type in numerics:\n",
    "            c_min = df[col].min()\n",
    "            c_max = df[col].max()\n",
    "            if str(col_type)[:3] == 'int':\n",
    "                if c_min > np.iinfo(np.int8).min and c_max < np.iinfo(np.int8).max:\n",
    "                    df[col] = df[col].astype(np.int8)\n",
    "                elif c_min > np.iinfo(np.int16).min and c_max < np.iinfo(np.int16).max:\n",
    "                    df[col] = df[col].astype(np.int16)\n",
    "                elif c_min > np.iinfo(np.int32).min and c_max < np.iinfo(np.int32).max:\n",
    "                    df[col] = df[col].astype(np.int32)\n",
    "                elif c_min > np.iinfo(np.int64).min and c_max < np.iinfo(np.int64).max:\n",
    "                    df[col] = df[col].astype(np.int64)\n",
    "            else:\n",
    "                if c_min > np.finfo(np.float16).min and c_max < np.finfo(np.float16).max:\n",
    "                    df[col] = df[col].astype(np.float16)\n",
    "                elif c_min > np.finfo(np.float32).min and c_max < np.finfo(np.float32).max:\n",
    "                    df[col] = df[col].astype(np.float32)\n",
    "                else:\n",
    "                    df[col] = df[col].astype(np.float64)\n",
    "    end_mem = df.memory_usage().sum() / 1024**2\n",
    "    print('collecting garbage gc.collect()')\n",
    "    gc.collect()\n",
    "    if verbose:\n",
    "        print('Memory usage decreased to {:5.2f} Mb ({:.1f}% reduction)'.format(\n",
    "            end_mem, 100 * (start_mem - end_mem) / start_mem))\n",
    "    return df"
   ]
  },
  {
   "cell_type": "markdown",
   "metadata": {},
   "source": [
    "# Read training data"
   ]
  },
  {
   "cell_type": "code",
   "execution_count": 3,
   "metadata": {},
   "outputs": [],
   "source": [
    "df_train = pd.read_csv('df_train_regress_lag.csv',dtype ={'Customer ID':'object'})"
   ]
  },
  {
   "cell_type": "code",
   "execution_count": 4,
   "metadata": {},
   "outputs": [
    {
     "name": "stdout",
     "output_type": "stream",
     "text": [
      "collecting garbage gc.collect()\n",
      "Memory usage decreased to 141.84 Mb (68.3% reduction)\n"
     ]
    }
   ],
   "source": [
    "df_train = reduce_mem_usage(df_train)"
   ]
  },
  {
   "cell_type": "code",
   "execution_count": 5,
   "metadata": {},
   "outputs": [],
   "source": [
    "# replacing inf values in price with mean as it was causing problem during fitting model\n",
    "df_train.loc[np.isinf(df_train.price),'price'] = np.mean(df_train[~np.isinf(df_train.price)]['price'])"
   ]
  },
  {
   "cell_type": "markdown",
   "metadata": {},
   "source": [
    "# creatinng if_ordered column  \n",
    "this column will provide whether an order was placed in the visit\n",
    "0 = if no order was placed \n",
    "1 = if order was placed"
   ]
  },
  {
   "cell_type": "code",
   "execution_count": 6,
   "metadata": {},
   "outputs": [],
   "source": [
    "df_train.loc[df_train['Quantity'] < 1,'if_ordered'] = 0"
   ]
  },
  {
   "cell_type": "code",
   "execution_count": 7,
   "metadata": {},
   "outputs": [],
   "source": [
    "df_train.loc[df_train['Quantity'] >= 1, 'if_ordered'] = 1"
   ]
  },
  {
   "cell_type": "code",
   "execution_count": 8,
   "metadata": {},
   "outputs": [
    {
     "data": {
      "text/plain": [
       "array([0., 1.])"
      ]
     },
     "execution_count": 8,
     "metadata": {},
     "output_type": "execute_result"
    }
   ],
   "source": [
    "df_train.if_ordered.unique()"
   ]
  },
  {
   "cell_type": "markdown",
   "metadata": {},
   "source": [
    "# order_category"
   ]
  },
  {
   "cell_type": "code",
   "execution_count": 9,
   "metadata": {},
   "outputs": [],
   "source": [
    "#df_train.loc[df_train['Quantity'] < 1,'order_category'] = 0"
   ]
  },
  {
   "cell_type": "code",
   "execution_count": 10,
   "metadata": {},
   "outputs": [],
   "source": [
    "#df_train.loc[(df_train['Quantity'] >= 1) & (df_train['Quantity'] <= 10),'order_category'] = 1"
   ]
  },
  {
   "cell_type": "code",
   "execution_count": 11,
   "metadata": {},
   "outputs": [],
   "source": [
    "#df_train.loc[(df_train['Quantity'] > 10) & (df_train['Quantity'] <= 150),'order_category'] = 2"
   ]
  },
  {
   "cell_type": "code",
   "execution_count": 12,
   "metadata": {},
   "outputs": [],
   "source": [
    "#df_train.loc[df_train['Quantity'] > 150,'order_category'] = 3"
   ]
  },
  {
   "cell_type": "code",
   "execution_count": 13,
   "metadata": {},
   "outputs": [],
   "source": [
    "#df_train.order_category.unique()"
   ]
  },
  {
   "cell_type": "markdown",
   "metadata": {},
   "source": [
    "# separating 0 and 1 if_ordered"
   ]
  },
  {
   "cell_type": "code",
   "execution_count": 14,
   "metadata": {},
   "outputs": [],
   "source": [
    "df_0 = df_train[df_train['if_ordered'] == 0]"
   ]
  },
  {
   "cell_type": "code",
   "execution_count": 15,
   "metadata": {},
   "outputs": [],
   "source": [
    "df_1 = df_train[df_train['if_ordered'] == 1]"
   ]
  },
  {
   "cell_type": "code",
   "execution_count": 16,
   "metadata": {},
   "outputs": [
    {
     "name": "stdout",
     "output_type": "stream",
     "text": [
      "(1957002, 31)\n",
      "(1779072, 31)\n",
      "(177930, 31)\n",
      "1957002\n"
     ]
    }
   ],
   "source": [
    "print(df_train.shape)\n",
    "print(df_0.shape)\n",
    "print(df_1.shape)\n",
    "print(df_0.shape[0]+df_1.shape[0])"
   ]
  },
  {
   "cell_type": "code",
   "execution_count": 17,
   "metadata": {},
   "outputs": [
    {
     "name": "stdout",
     "output_type": "stream",
     "text": [
      "percentage of 1s in training data\n",
      "9.091968224866402\n"
     ]
    }
   ],
   "source": [
    "print('percentage of 1s in training data')\n",
    "print((df_1.shape[0]*100)/df_train.shape[0])"
   ]
  },
  {
   "cell_type": "markdown",
   "metadata": {},
   "source": [
    "# Classification"
   ]
  },
  {
   "cell_type": "markdown",
   "metadata": {},
   "source": [
    "## Sampling to create data on which Classifier will be modelled"
   ]
  },
  {
   "cell_type": "markdown",
   "metadata": {},
   "source": [
    "we are taking all data points where customer ordered for training classifier.  \n",
    "This will be 40% of total data points used classification.  \n",
    "The rest 60% will be data points or visits where no order was placed. We will pick the sample using STRATIFIED SAMPLING to select data points from all months for training classifier."
   ]
  },
  {
   "cell_type": "code",
   "execution_count": 62,
   "metadata": {},
   "outputs": [
    {
     "name": "stdout",
     "output_type": "stream",
     "text": [
      "%age of data points with order\n",
      "0.4\n",
      "total no. of data points to be used to train classifier, which will be all the visits where order was made\n",
      "444825\n",
      "no. of data points we require where no order was placed\n",
      "266895\n"
     ]
    }
   ],
   "source": [
    "print('%age of data points with order')\n",
    "perc_1_train = 0.4\n",
    "print(perc_1_train)\n",
    "\n",
    "\n",
    "print('total no. of data points to be used to train classifier, which will be all the visits where order was made')\n",
    "total_1_points = df_1.shape[0]\n",
    "total_train_data_points = int(total_1_points/perc_1_train)\n",
    "print(total_train_data_points)\n",
    "\n",
    "print('no. of data points we require where no order was placed')\n",
    "total_0_points = total_train_data_points-total_1_points\n",
    "print(total_0_points)"
   ]
  },
  {
   "cell_type": "code",
   "execution_count": 63,
   "metadata": {},
   "outputs": [
    {
     "name": "stdout",
     "output_type": "stream",
     "text": [
      "0.15001922350528815\n"
     ]
    }
   ],
   "source": [
    "# selecting calcualted no. of 0 order visits for training\n",
    "# this will be stratified sampling maintaining month and customer cluster proportion\n",
    "perc_train_from_all0 = total_0_points/df_0.shape[0]\n",
    "print(perc_train_from_all0)"
   ]
  },
  {
   "cell_type": "code",
   "execution_count": 64,
   "metadata": {},
   "outputs": [],
   "source": [
    "#X_0 = df_0[[col for col in df_0.columns if col not in ['if_ordered','order_category']]]\n",
    "X_0 = df_0[[col for col in df_0.columns if col not in ['if_ordered']]]\n",
    "#Y_0 = df_0[['order_category']]\n",
    "Y_0 = df_0[['if_ordered']]"
   ]
  },
  {
   "cell_type": "code",
   "execution_count": 65,
   "metadata": {},
   "outputs": [],
   "source": [
    "X_train_0, X_test_0, y_train_0, y_test_0 = train_test_split( X_0, Y_0, train_size=perc_train_from_all0, \n",
    "                                                            random_state=42, stratify=X_0[['month','Customer_Cluster']])"
   ]
  },
  {
   "cell_type": "code",
   "execution_count": 66,
   "metadata": {},
   "outputs": [
    {
     "name": "stdout",
     "output_type": "stream",
     "text": [
      "(266895, 30)\n",
      "(266895, 1)\n"
     ]
    }
   ],
   "source": [
    "print(X_train_0.shape)\n",
    "print(y_train_0.shape)"
   ]
  },
  {
   "cell_type": "code",
   "execution_count": 67,
   "metadata": {},
   "outputs": [],
   "source": [
    "#X_train_1 = df_1[[col for col in df_1.columns if col not in ['if_ordered','order_category']]]\n",
    "X_train_1 = df_1[[col for col in df_1.columns if col not in ['if_ordered']]]\n",
    "#y_train_1 = df_1[['order_category']]\n",
    "y_train_1 = df_1[['if_ordered']]"
   ]
  },
  {
   "cell_type": "code",
   "execution_count": 68,
   "metadata": {},
   "outputs": [
    {
     "data": {
      "text/plain": [
       "(177930, 30)"
      ]
     },
     "execution_count": 68,
     "metadata": {},
     "output_type": "execute_result"
    }
   ],
   "source": [
    "X_train_1.shape"
   ]
  },
  {
   "cell_type": "code",
   "execution_count": 69,
   "metadata": {},
   "outputs": [],
   "source": [
    "X = X_train_0.append(X_train_1).reset_index(drop=True)\n",
    "y = y_train_0.append(y_train_1).reset_index(drop=True)"
   ]
  },
  {
   "cell_type": "code",
   "execution_count": 70,
   "metadata": {},
   "outputs": [
    {
     "data": {
      "text/plain": [
       "(444825, 30)"
      ]
     },
     "execution_count": 70,
     "metadata": {},
     "output_type": "execute_result"
    }
   ],
   "source": [
    "X.shape"
   ]
  },
  {
   "cell_type": "code",
   "execution_count": 71,
   "metadata": {},
   "outputs": [
    {
     "data": {
      "text/plain": [
       "(444825, 1)"
      ]
     },
     "execution_count": 71,
     "metadata": {},
     "output_type": "execute_result"
    }
   ],
   "source": [
    "y.shape"
   ]
  },
  {
   "cell_type": "markdown",
   "metadata": {},
   "source": [
    "## RandomForestClassifier"
   ]
  },
  {
   "cell_type": "markdown",
   "metadata": {},
   "source": [
    "## creating train and test"
   ]
  },
  {
   "cell_type": "code",
   "execution_count": 72,
   "metadata": {},
   "outputs": [],
   "source": [
    "independent_features = [col for col in X.columns if col not in  \n",
    "                        ['Customer ID','Quantity','Invoice Value','Date','month','year']]"
   ]
  },
  {
   "cell_type": "code",
   "execution_count": 73,
   "metadata": {},
   "outputs": [],
   "source": [
    "x_train, x_test, y_train, y_test = train_test_split( X[independent_features], y, test_size=0.33, random_state=102, stratify=y) "
   ]
  },
  {
   "cell_type": "markdown",
   "metadata": {},
   "source": [
    "### Using GridSearchCV to find best parameters"
   ]
  },
  {
   "cell_type": "code",
   "execution_count": 74,
   "metadata": {},
   "outputs": [],
   "source": [
    "rfc = RandomForestClassifier(n_jobs=-1,random_state = 101) \n",
    "\n",
    "param_grid = { \n",
    "    'n_estimators': [100,200, 500],\n",
    "    'max_depth': [2,5,10, 20, 30, None],\n",
    "    'max_features':['auto','sqrt']\n",
    "}\n",
    "CV_rfc = GridSearchCV(estimator=rfc, param_grid=param_grid, cv = 3, n_jobs = -1)"
   ]
  },
  {
   "cell_type": "code",
   "execution_count": 75,
   "metadata": {},
   "outputs": [],
   "source": [
    "#CV_rfc.fit(x_train.values,y_train.values)\n",
    "#print(CV_rfc.best_params_)"
   ]
  },
  {
   "cell_type": "code",
   "execution_count": null,
   "metadata": {},
   "outputs": [],
   "source": []
  },
  {
   "cell_type": "code",
   "execution_count": 76,
   "metadata": {},
   "outputs": [],
   "source": [
    "clf=RandomForestClassifier(n_jobs=-1)"
   ]
  },
  {
   "cell_type": "code",
   "execution_count": 77,
   "metadata": {},
   "outputs": [
    {
     "name": "stdout",
     "output_type": "stream",
     "text": [
      "<class 'pandas.core.frame.DataFrame'>\n",
      "Int64Index: 298032 entries, 264454 to 233339\n",
      "Data columns (total 24 columns):\n",
      " #   Column                   Non-Null Count   Dtype  \n",
      "---  ------                   --------------   -----  \n",
      " 0   dayofmonth_sin           298032 non-null  float16\n",
      " 1   dayofmonth_cos           298032 non-null  float16\n",
      " 2   month_sin                298032 non-null  float16\n",
      " 3   month_cos                298032 non-null  float16\n",
      " 4   week_sin                 298032 non-null  float16\n",
      " 5   week_cos                 298032 non-null  float16\n",
      " 6   dayofweek_sin            298032 non-null  float16\n",
      " 7   dayofweek_cos            298032 non-null  float16\n",
      " 8   quarter_sin              298032 non-null  float16\n",
      " 9   quarter_cos              298032 non-null  float16\n",
      " 10  month_start_mid_end_sin  298032 non-null  float16\n",
      " 11  month_start_mid_end_cos  298032 non-null  float16\n",
      " 12  price                    298032 non-null  float64\n",
      " 13  Customer_Cluster         298032 non-null  int8   \n",
      " 14  quantity_lag_1           298032 non-null  float16\n",
      " 15  quantity_lag_2           298032 non-null  float16\n",
      " 16  quantity_lag_3           298032 non-null  float16\n",
      " 17  quantity_lag_4           298032 non-null  float16\n",
      " 18  quantity_lag_5           298032 non-null  float16\n",
      " 19  quantity_lag_6           298032 non-null  float16\n",
      " 20  quantity_ma_3            298032 non-null  float16\n",
      " 21  quantity_ma_7            298032 non-null  float16\n",
      " 22  quantity_ma_15           298032 non-null  float16\n",
      " 23  quantity_ma_30           298032 non-null  float16\n",
      "dtypes: float16(22), float64(1), int8(1)\n",
      "memory usage: 17.3 MB\n"
     ]
    }
   ],
   "source": [
    "x_train.info()"
   ]
  },
  {
   "cell_type": "code",
   "execution_count": 78,
   "metadata": {},
   "outputs": [
    {
     "data": {
      "text/plain": [
       "Index(['dayofmonth_sin', 'dayofmonth_cos', 'month_sin', 'month_cos',\n",
       "       'week_sin', 'week_cos', 'dayofweek_sin', 'dayofweek_cos', 'quarter_sin',\n",
       "       'quarter_cos', 'month_start_mid_end_sin', 'month_start_mid_end_cos',\n",
       "       'price', 'Customer_Cluster', 'quantity_lag_1', 'quantity_lag_2',\n",
       "       'quantity_lag_3', 'quantity_lag_4', 'quantity_lag_5', 'quantity_lag_6',\n",
       "       'quantity_ma_3', 'quantity_ma_7', 'quantity_ma_15', 'quantity_ma_30'],\n",
       "      dtype='object')"
      ]
     },
     "execution_count": 78,
     "metadata": {},
     "output_type": "execute_result"
    }
   ],
   "source": [
    "x_train.columns"
   ]
  },
  {
   "cell_type": "code",
   "execution_count": 79,
   "metadata": {},
   "outputs": [
    {
     "name": "stderr",
     "output_type": "stream",
     "text": [
      "<ipython-input-79-23a7f0d6d621>:1: DataConversionWarning: A column-vector y was passed when a 1d array was expected. Please change the shape of y to (n_samples,), for example using ravel().\n",
      "  clf.fit(x_train,y_train)\n"
     ]
    },
    {
     "data": {
      "text/plain": [
       "RandomForestClassifier(n_jobs=-1)"
      ]
     },
     "execution_count": 79,
     "metadata": {},
     "output_type": "execute_result"
    }
   ],
   "source": [
    "clf.fit(x_train,y_train)"
   ]
  },
  {
   "cell_type": "code",
   "execution_count": 80,
   "metadata": {},
   "outputs": [],
   "source": [
    "y_pred=clf.predict(x_test)"
   ]
  },
  {
   "cell_type": "code",
   "execution_count": 81,
   "metadata": {},
   "outputs": [
    {
     "name": "stdout",
     "output_type": "stream",
     "text": [
      "Accuracy: 0.9978813703650719\n"
     ]
    }
   ],
   "source": [
    "# Model Accuracy, how often is the classifier correct?\n",
    "print(\"Accuracy:\", metrics.accuracy_score(y_test, y_pred))"
   ]
  },
  {
   "cell_type": "code",
   "execution_count": 82,
   "metadata": {},
   "outputs": [
    {
     "data": {
      "text/plain": [
       "array([[87924,   152],\n",
       "       [  159, 58558]], dtype=int64)"
      ]
     },
     "execution_count": 82,
     "metadata": {},
     "output_type": "execute_result"
    }
   ],
   "source": [
    "confusion_matrix(y_test, y_pred )"
   ]
  },
  {
   "cell_type": "code",
   "execution_count": 83,
   "metadata": {},
   "outputs": [
    {
     "data": {
      "text/plain": [
       "(array([0.99819488, 0.997411  ]),\n",
       " array([0.99827422, 0.9972921 ]),\n",
       " array([0.99823455, 0.99735155]),\n",
       " array([88076, 58717], dtype=int64))"
      ]
     },
     "execution_count": 83,
     "metadata": {},
     "output_type": "execute_result"
    }
   ],
   "source": [
    "metrics.precision_recall_fscore_support(y_test, y_pred, average=None, labels=[0, 1])\n",
    "# precision\n",
    "# recall\n",
    "# f1 score"
   ]
  },
  {
   "cell_type": "markdown",
   "metadata": {},
   "source": [
    "### Classifier Feature Importance"
   ]
  },
  {
   "cell_type": "code",
   "execution_count": 56,
   "metadata": {},
   "outputs": [
    {
     "data": {
      "text/plain": [
       "24"
      ]
     },
     "execution_count": 56,
     "metadata": {},
     "output_type": "execute_result"
    }
   ],
   "source": [
    "len(features_c)"
   ]
  },
  {
   "cell_type": "code",
   "execution_count": 58,
   "metadata": {},
   "outputs": [
    {
     "data": {
      "text/plain": [
       "Text(0.5, 0, 'Relative Importance')"
      ]
     },
     "execution_count": 58,
     "metadata": {},
     "output_type": "execute_result"
    },
    {
     "data": {
      "image/png": "[encoded data removed]",
      "text/plain": [
       "<Figure size 720x720 with 1 Axes>"
      ]
     },
     "metadata": {
      "needs_background": "light"
     },
     "output_type": "display_data"
    }
   ],
   "source": [
    "features_c=x_train.columns\n",
    "importances_c = clf.feature_importances_\n",
    "indices = np.argsort(importances_c)\n",
    "\n",
    "plt.figure(figsize=(10,10))\n",
    "plt.figure(1)\n",
    "plt.title('Feature Importances: Classification')\n",
    "plt.barh(range(len(indices)), importances_c[indices], color='b', align='center')\n",
    "plt.yticks(range(len(indices)), features_c[indices])\n",
    "plt.xlabel('Relative Importance')"
   ]
  },
  {
   "cell_type": "markdown",
   "metadata": {},
   "source": [
    "## saving classifer to disk using pickle"
   ]
  },
  {
   "cell_type": "code",
   "execution_count": 41,
   "metadata": {},
   "outputs": [],
   "source": [
    "# save the model to disk\n",
    "filename = 'classifier.sav'\n",
    "pickle.dump(clf, open(filename, 'wb'))"
   ]
  },
  {
   "cell_type": "markdown",
   "metadata": {},
   "source": [
    " load the model from disk\n",
    "clf2 = pickle.load(open(filename, 'rb'))"
   ]
  },
  {
   "cell_type": "markdown",
   "metadata": {},
   "source": [
    "# Regression  \n",
    "for regression we are taking all the data points where we have at least one order"
   ]
  },
  {
   "cell_type": "markdown",
   "metadata": {},
   "source": [
    "## Outliers  \n",
    "orders with more than 350 can be considered outliers and may be simply removed from training"
   ]
  },
  {
   "cell_type": "code",
   "execution_count": 84,
   "metadata": {},
   "outputs": [],
   "source": [
    "x_1 = df_1[[col for col in df_1.columns if col != 'Quantity']]\n",
    "y_1 = df_1[['Quantity']]"
   ]
  },
  {
   "cell_type": "markdown",
   "metadata": {},
   "source": [
    "## Creating train and test"
   ]
  },
  {
   "cell_type": "code",
   "execution_count": 85,
   "metadata": {},
   "outputs": [],
   "source": [
    "independent_features = [col for col in x_1.columns if col not in  \n",
    "                        ['Customer ID','Invoice Value','Date','month','year','if_ordered','order_category']]"
   ]
  },
  {
   "cell_type": "code",
   "execution_count": 86,
   "metadata": {},
   "outputs": [],
   "source": [
    "x_train, x_test, y_train, y_test = train_test_split( x_1[independent_features], y_1, \n",
    "                                                    test_size=0.33, random_state=102, \n",
    "                                                    stratify=x_1[['month','Customer_Cluster']]) "
   ]
  },
  {
   "cell_type": "markdown",
   "metadata": {},
   "source": [
    "### Using GridSearchCV to find best parameters"
   ]
  },
  {
   "cell_type": "code",
   "execution_count": 87,
   "metadata": {},
   "outputs": [],
   "source": [
    "rfr = RandomForestRegressor(n_jobs=-1,random_state = 101) \n",
    "\n",
    "param_grid = { \n",
    "    'n_estimators': [100,200, 500],\n",
    "    'max_depth': [2,5,10, 20, 30, None],\n",
    "    'max_features':['auto','sqrt']\n",
    "}\n",
    "CV_rfr = GridSearchCV(estimator=rfr, param_grid=param_grid, cv = 3, n_jobs = -1)"
   ]
  },
  {
   "cell_type": "code",
   "execution_count": 88,
   "metadata": {},
   "outputs": [],
   "source": [
    "#CV_rfr.fit(x_train.values,y_train.values)\n",
    "#print(CV_rfr.best_params_)"
   ]
  },
  {
   "cell_type": "code",
   "execution_count": 89,
   "metadata": {},
   "outputs": [],
   "source": [
    "reg_rf = RandomForestRegressor(n_jobs=-1,n_estimators=10, random_state = 102 )"
   ]
  },
  {
   "cell_type": "code",
   "execution_count": 90,
   "metadata": {},
   "outputs": [
    {
     "name": "stderr",
     "output_type": "stream",
     "text": [
      "<ipython-input-90-a23283d3e3e2>:1: DataConversionWarning: A column-vector y was passed when a 1d array was expected. Please change the shape of y to (n_samples,), for example using ravel().\n",
      "  reg_rf.fit(x_train.values,y_train.values)\n"
     ]
    },
    {
     "data": {
      "text/plain": [
       "RandomForestRegressor(n_estimators=10, n_jobs=-1, random_state=102)"
      ]
     },
     "execution_count": 90,
     "metadata": {},
     "output_type": "execute_result"
    }
   ],
   "source": [
    "reg_rf.fit(x_train.values,y_train.values)"
   ]
  },
  {
   "cell_type": "code",
   "execution_count": 91,
   "metadata": {},
   "outputs": [],
   "source": [
    "y_pred = reg_rf.predict(x_test)"
   ]
  },
  {
   "cell_type": "code",
   "execution_count": 92,
   "metadata": {},
   "outputs": [
    {
     "name": "stdout",
     "output_type": "stream",
     "text": [
      "R-squared: 100.0\n",
      "Mean Absolute percentage Error: 125.08258962481986\n",
      "Mean Squared Error: 47.1140387253914\n",
      "Root Mean Squared Error: 6.863966690288597\n"
     ]
    },
    {
     "name": "stderr",
     "output_type": "stream",
     "text": [
      "C:\\Users\\avira\\.virtualenvs\\DecisionPoint_SeriesForecasting-oxTTuEuo\\lib\\site-packages\\sklearn\\metrics\\_regression.py:600: RuntimeWarning: overflow encountered in square\n",
      "  denominator = (weight * (y_true - np.average(\n"
     ]
    }
   ],
   "source": [
    "print('R-squared:', metrics.r2_score(y_test, y_pred) * 100)\n",
    "print('Mean Absolute percentage Error:', metrics.mean_absolute_error(y_test, y_pred) * 100)  \n",
    "print('Mean Squared Error:', metrics.mean_squared_error(y_test, y_pred))  \n",
    "print('Root Mean Squared Error:', np.sqrt(metrics.mean_squared_error(y_test, y_pred)))"
   ]
  },
  {
   "cell_type": "markdown",
   "metadata": {},
   "source": [
    "**Non Zero Accuracy**"
   ]
  },
  {
   "cell_type": "code",
   "execution_count": 117,
   "metadata": {},
   "outputs": [],
   "source": [
    "df_nza = pd.DataFrame()\n",
    "df_nza['y_test_actual'] = y_test.values.flatten()\n",
    "df_nza['y_test_predicted'] = y_pred\n",
    "\n",
    "df_nza['y_test_actual'] = df_nza['y_test_actual'].map(int)\n",
    "df_nza['y_test_predicted'] = df_nza['y_test_predicted'].map(int)"
   ]
  },
  {
   "cell_type": "code",
   "execution_count": 121,
   "metadata": {},
   "outputs": [
    {
     "name": "stdout",
     "output_type": "stream",
     "text": [
      "Non Zero Accuracy is\n",
      "72.32998961118585\n"
     ]
    }
   ],
   "source": [
    "print('Non Zero Accuracy in percentage is')\n",
    "print(((df_nza.loc[df_nza['y_test_actual'] == df_nza['y_test_predicted']].shape[0]*100))/df_nza.shape[0])"
   ]
  },
  {
   "cell_type": "code",
   "execution_count": null,
   "metadata": {},
   "outputs": [],
   "source": []
  },
  {
   "cell_type": "markdown",
   "metadata": {},
   "source": [
    "# Regression feature importance"
   ]
  },
  {
   "cell_type": "code",
   "execution_count": 59,
   "metadata": {},
   "outputs": [
    {
     "data": {
      "text/plain": [
       "Text(0.5, 0, 'Relative Importance')"
      ]
     },
     "execution_count": 59,
     "metadata": {},
     "output_type": "execute_result"
    },
    {
     "data": {
      "image/png": "[encoded data removed]",
      "text/plain": [
       "<Figure size 720x720 with 1 Axes>"
      ]
     },
     "metadata": {
      "needs_background": "light"
     },
     "output_type": "display_data"
    }
   ],
   "source": [
    "features_r=x_train.columns\n",
    "importances_r = reg_rf.feature_importances_\n",
    "indices = np.argsort(importances_c)\n",
    "\n",
    "plt.figure(figsize=(10,10))\n",
    "plt.figure(1)\n",
    "plt.title('Feature Importances: Regression')\n",
    "plt.barh(range(len(indices)), importances_r[indices], color='b', align='center')\n",
    "plt.yticks(range(len(indices)), features_r[indices])\n",
    "plt.xlabel('Relative Importance')"
   ]
  },
  {
   "cell_type": "markdown",
   "metadata": {},
   "source": [
    "## saving regressor to disk using pickle"
   ]
  },
  {
   "cell_type": "code",
   "execution_count": 54,
   "metadata": {},
   "outputs": [],
   "source": [
    "filename = 'regressor.sav'\n",
    "pickle.dump(reg_rf, open(filename, 'wb'))"
   ]
  },
  {
   "cell_type": "code",
   "execution_count": null,
   "metadata": {},
   "outputs": [],
   "source": []
  }
 ],
 "metadata": {
  "kernelspec": {
   "display_name": "DecisionPoint_SeriesForecasting-oxTTuEuo",
   "language": "python",
   "name": "decisionpoint_seriesforecasting-oxttueuo"
  },
  "language_info": {
   "codemirror_mode": {
    "name": "ipython",
    "version": 3
   },
   "file_extension": ".py",
   "mimetype": "text/x-python",
   "name": "python",
   "nbconvert_exporter": "python",
   "pygments_lexer": "ipython3",
   "version": "3.8.3"
  }
 },
 "nbformat": 4,
 "nbformat_minor": 4
}
